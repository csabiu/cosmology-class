{
  "nbformat": 4,
  "nbformat_minor": 0,
  "metadata": {
    "colab": {
      "name": "Cosmic_Shear.ipynb",
      "provenance": [],
      "authorship_tag": "ABX9TyNUts6nq34RDwg+ngFlR8Yn",
      "include_colab_link": true
    },
    "kernelspec": {
      "name": "python3",
      "display_name": "Python 3"
    },
    "language_info": {
      "name": "python"
    }
  },
  "cells": [
    {
      "cell_type": "markdown",
      "metadata": {
        "id": "view-in-github",
        "colab_type": "text"
      },
      "source": [
        "<a href=\"https://colab.research.google.com/github/csabiu/cosmology-class/blob/main/Cosmic_Shear.ipynb\" target=\"_parent\"><img src=\"https://colab.research.google.com/assets/colab-badge.svg\" alt=\"Open In Colab\"/></a>"
      ]
    },
    {
      "cell_type": "markdown",
      "metadata": {
        "id": "gqb3AcCTw3pT"
      },
      "source": [
        "### Download CAMB"
      ]
    },
    {
      "cell_type": "code",
      "metadata": {
        "id": "Z4DnTjXBLQ9Y",
        "colab": {
          "base_uri": "https://localhost:8080/"
        },
        "outputId": "068ca52f-6d0f-4f3d-ed1d-014f3fdcac39"
      },
      "source": [
        "!pip install camb"
      ],
      "execution_count": 1,
      "outputs": [
        {
          "output_type": "stream",
          "name": "stdout",
          "text": [
            "Collecting camb\n",
            "  Downloading camb-1.3.2.tar.gz (1.6 MB)\n",
            "\u001b[?25l\r\u001b[K     |▏                               | 10 kB 20.7 MB/s eta 0:00:01\r\u001b[K     |▍                               | 20 kB 13.2 MB/s eta 0:00:01\r\u001b[K     |▋                               | 30 kB 15.5 MB/s eta 0:00:01\r\u001b[K     |▉                               | 40 kB 16.5 MB/s eta 0:00:01\r\u001b[K     |█                               | 51 kB 17.0 MB/s eta 0:00:01\r\u001b[K     |█▏                              | 61 kB 17.4 MB/s eta 0:00:01\r\u001b[K     |█▍                              | 71 kB 18.3 MB/s eta 0:00:01\r\u001b[K     |█▋                              | 81 kB 19.9 MB/s eta 0:00:01\r\u001b[K     |█▉                              | 92 kB 21.3 MB/s eta 0:00:01\r\u001b[K     |██                              | 102 kB 22.5 MB/s eta 0:00:01\r\u001b[K     |██▏                             | 112 kB 22.5 MB/s eta 0:00:01\r\u001b[K     |██▍                             | 122 kB 22.5 MB/s eta 0:00:01\r\u001b[K     |██▋                             | 133 kB 22.5 MB/s eta 0:00:01\r\u001b[K     |██▉                             | 143 kB 22.5 MB/s eta 0:00:01\r\u001b[K     |███                             | 153 kB 22.5 MB/s eta 0:00:01\r\u001b[K     |███▏                            | 163 kB 22.5 MB/s eta 0:00:01\r\u001b[K     |███▍                            | 174 kB 22.5 MB/s eta 0:00:01\r\u001b[K     |███▋                            | 184 kB 22.5 MB/s eta 0:00:01\r\u001b[K     |███▉                            | 194 kB 22.5 MB/s eta 0:00:01\r\u001b[K     |████                            | 204 kB 22.5 MB/s eta 0:00:01\r\u001b[K     |████▎                           | 215 kB 22.5 MB/s eta 0:00:01\r\u001b[K     |████▍                           | 225 kB 22.5 MB/s eta 0:00:01\r\u001b[K     |████▋                           | 235 kB 22.5 MB/s eta 0:00:01\r\u001b[K     |████▉                           | 245 kB 22.5 MB/s eta 0:00:01\r\u001b[K     |█████                           | 256 kB 22.5 MB/s eta 0:00:01\r\u001b[K     |█████▎                          | 266 kB 22.5 MB/s eta 0:00:01\r\u001b[K     |█████▍                          | 276 kB 22.5 MB/s eta 0:00:01\r\u001b[K     |█████▋                          | 286 kB 22.5 MB/s eta 0:00:01\r\u001b[K     |█████▉                          | 296 kB 22.5 MB/s eta 0:00:01\r\u001b[K     |██████                          | 307 kB 22.5 MB/s eta 0:00:01\r\u001b[K     |██████▎                         | 317 kB 22.5 MB/s eta 0:00:01\r\u001b[K     |██████▍                         | 327 kB 22.5 MB/s eta 0:00:01\r\u001b[K     |██████▋                         | 337 kB 22.5 MB/s eta 0:00:01\r\u001b[K     |██████▉                         | 348 kB 22.5 MB/s eta 0:00:01\r\u001b[K     |███████                         | 358 kB 22.5 MB/s eta 0:00:01\r\u001b[K     |███████▎                        | 368 kB 22.5 MB/s eta 0:00:01\r\u001b[K     |███████▍                        | 378 kB 22.5 MB/s eta 0:00:01\r\u001b[K     |███████▋                        | 389 kB 22.5 MB/s eta 0:00:01\r\u001b[K     |███████▉                        | 399 kB 22.5 MB/s eta 0:00:01\r\u001b[K     |████████                        | 409 kB 22.5 MB/s eta 0:00:01\r\u001b[K     |████████▎                       | 419 kB 22.5 MB/s eta 0:00:01\r\u001b[K     |████████▌                       | 430 kB 22.5 MB/s eta 0:00:01\r\u001b[K     |████████▋                       | 440 kB 22.5 MB/s eta 0:00:01\r\u001b[K     |████████▉                       | 450 kB 22.5 MB/s eta 0:00:01\r\u001b[K     |█████████                       | 460 kB 22.5 MB/s eta 0:00:01\r\u001b[K     |█████████▎                      | 471 kB 22.5 MB/s eta 0:00:01\r\u001b[K     |█████████▌                      | 481 kB 22.5 MB/s eta 0:00:01\r\u001b[K     |█████████▋                      | 491 kB 22.5 MB/s eta 0:00:01\r\u001b[K     |█████████▉                      | 501 kB 22.5 MB/s eta 0:00:01\r\u001b[K     |██████████                      | 512 kB 22.5 MB/s eta 0:00:01\r\u001b[K     |██████████▎                     | 522 kB 22.5 MB/s eta 0:00:01\r\u001b[K     |██████████▌                     | 532 kB 22.5 MB/s eta 0:00:01\r\u001b[K     |██████████▋                     | 542 kB 22.5 MB/s eta 0:00:01\r\u001b[K     |██████████▉                     | 552 kB 22.5 MB/s eta 0:00:01\r\u001b[K     |███████████                     | 563 kB 22.5 MB/s eta 0:00:01\r\u001b[K     |███████████▎                    | 573 kB 22.5 MB/s eta 0:00:01\r\u001b[K     |███████████▌                    | 583 kB 22.5 MB/s eta 0:00:01\r\u001b[K     |███████████▊                    | 593 kB 22.5 MB/s eta 0:00:01\r\u001b[K     |███████████▉                    | 604 kB 22.5 MB/s eta 0:00:01\r\u001b[K     |████████████                    | 614 kB 22.5 MB/s eta 0:00:01\r\u001b[K     |████████████▎                   | 624 kB 22.5 MB/s eta 0:00:01\r\u001b[K     |████████████▌                   | 634 kB 22.5 MB/s eta 0:00:01\r\u001b[K     |████████████▊                   | 645 kB 22.5 MB/s eta 0:00:01\r\u001b[K     |████████████▉                   | 655 kB 22.5 MB/s eta 0:00:01\r\u001b[K     |█████████████                   | 665 kB 22.5 MB/s eta 0:00:01\r\u001b[K     |█████████████▎                  | 675 kB 22.5 MB/s eta 0:00:01\r\u001b[K     |█████████████▌                  | 686 kB 22.5 MB/s eta 0:00:01\r\u001b[K     |█████████████▊                  | 696 kB 22.5 MB/s eta 0:00:01\r\u001b[K     |█████████████▉                  | 706 kB 22.5 MB/s eta 0:00:01\r\u001b[K     |██████████████                  | 716 kB 22.5 MB/s eta 0:00:01\r\u001b[K     |██████████████▎                 | 727 kB 22.5 MB/s eta 0:00:01\r\u001b[K     |██████████████▌                 | 737 kB 22.5 MB/s eta 0:00:01\r\u001b[K     |██████████████▊                 | 747 kB 22.5 MB/s eta 0:00:01\r\u001b[K     |██████████████▉                 | 757 kB 22.5 MB/s eta 0:00:01\r\u001b[K     |███████████████                 | 768 kB 22.5 MB/s eta 0:00:01\r\u001b[K     |███████████████▎                | 778 kB 22.5 MB/s eta 0:00:01\r\u001b[K     |███████████████▌                | 788 kB 22.5 MB/s eta 0:00:01\r\u001b[K     |███████████████▊                | 798 kB 22.5 MB/s eta 0:00:01\r\u001b[K     |████████████████                | 808 kB 22.5 MB/s eta 0:00:01\r\u001b[K     |████████████████                | 819 kB 22.5 MB/s eta 0:00:01\r\u001b[K     |████████████████▎               | 829 kB 22.5 MB/s eta 0:00:01\r\u001b[K     |████████████████▌               | 839 kB 22.5 MB/s eta 0:00:01\r\u001b[K     |████████████████▊               | 849 kB 22.5 MB/s eta 0:00:01\r\u001b[K     |█████████████████               | 860 kB 22.5 MB/s eta 0:00:01\r\u001b[K     |█████████████████               | 870 kB 22.5 MB/s eta 0:00:01\r\u001b[K     |█████████████████▎              | 880 kB 22.5 MB/s eta 0:00:01\r\u001b[K     |█████████████████▌              | 890 kB 22.5 MB/s eta 0:00:01\r\u001b[K     |█████████████████▊              | 901 kB 22.5 MB/s eta 0:00:01\r\u001b[K     |██████████████████              | 911 kB 22.5 MB/s eta 0:00:01\r\u001b[K     |██████████████████              | 921 kB 22.5 MB/s eta 0:00:01\r\u001b[K     |██████████████████▎             | 931 kB 22.5 MB/s eta 0:00:01\r\u001b[K     |██████████████████▌             | 942 kB 22.5 MB/s eta 0:00:01\r\u001b[K     |██████████████████▊             | 952 kB 22.5 MB/s eta 0:00:01\r\u001b[K     |███████████████████             | 962 kB 22.5 MB/s eta 0:00:01\r\u001b[K     |███████████████████             | 972 kB 22.5 MB/s eta 0:00:01\r\u001b[K     |███████████████████▎            | 983 kB 22.5 MB/s eta 0:00:01\r\u001b[K     |███████████████████▌            | 993 kB 22.5 MB/s eta 0:00:01\r\u001b[K     |███████████████████▊            | 1.0 MB 22.5 MB/s eta 0:00:01\r\u001b[K     |████████████████████            | 1.0 MB 22.5 MB/s eta 0:00:01\r\u001b[K     |████████████████████▏           | 1.0 MB 22.5 MB/s eta 0:00:01\r\u001b[K     |████████████████████▎           | 1.0 MB 22.5 MB/s eta 0:00:01\r\u001b[K     |████████████████████▌           | 1.0 MB 22.5 MB/s eta 0:00:01\r\u001b[K     |████████████████████▊           | 1.1 MB 22.5 MB/s eta 0:00:01\r\u001b[K     |█████████████████████           | 1.1 MB 22.5 MB/s eta 0:00:01\r\u001b[K     |█████████████████████▏          | 1.1 MB 22.5 MB/s eta 0:00:01\r\u001b[K     |█████████████████████▎          | 1.1 MB 22.5 MB/s eta 0:00:01\r\u001b[K     |█████████████████████▌          | 1.1 MB 22.5 MB/s eta 0:00:01\r\u001b[K     |█████████████████████▊          | 1.1 MB 22.5 MB/s eta 0:00:01\r\u001b[K     |██████████████████████          | 1.1 MB 22.5 MB/s eta 0:00:01\r\u001b[K     |██████████████████████▏         | 1.1 MB 22.5 MB/s eta 0:00:01\r\u001b[K     |██████████████████████▎         | 1.1 MB 22.5 MB/s eta 0:00:01\r\u001b[K     |██████████████████████▌         | 1.1 MB 22.5 MB/s eta 0:00:01\r\u001b[K     |██████████████████████▊         | 1.2 MB 22.5 MB/s eta 0:00:01\r\u001b[K     |███████████████████████         | 1.2 MB 22.5 MB/s eta 0:00:01\r\u001b[K     |███████████████████████▏        | 1.2 MB 22.5 MB/s eta 0:00:01\r\u001b[K     |███████████████████████▍        | 1.2 MB 22.5 MB/s eta 0:00:01\r\u001b[K     |███████████████████████▌        | 1.2 MB 22.5 MB/s eta 0:00:01\r\u001b[K     |███████████████████████▊        | 1.2 MB 22.5 MB/s eta 0:00:01\r\u001b[K     |████████████████████████        | 1.2 MB 22.5 MB/s eta 0:00:01\r\u001b[K     |████████████████████████▏       | 1.2 MB 22.5 MB/s eta 0:00:01\r\u001b[K     |████████████████████████▍       | 1.2 MB 22.5 MB/s eta 0:00:01\r\u001b[K     |████████████████████████▌       | 1.2 MB 22.5 MB/s eta 0:00:01\r\u001b[K     |████████████████████████▊       | 1.3 MB 22.5 MB/s eta 0:00:01\r\u001b[K     |█████████████████████████       | 1.3 MB 22.5 MB/s eta 0:00:01\r\u001b[K     |█████████████████████████▏      | 1.3 MB 22.5 MB/s eta 0:00:01\r\u001b[K     |█████████████████████████▍      | 1.3 MB 22.5 MB/s eta 0:00:01\r\u001b[K     |█████████████████████████▌      | 1.3 MB 22.5 MB/s eta 0:00:01\r\u001b[K     |█████████████████████████▊      | 1.3 MB 22.5 MB/s eta 0:00:01\r\u001b[K     |██████████████████████████      | 1.3 MB 22.5 MB/s eta 0:00:01\r\u001b[K     |██████████████████████████▏     | 1.3 MB 22.5 MB/s eta 0:00:01\r\u001b[K     |██████████████████████████▍     | 1.3 MB 22.5 MB/s eta 0:00:01\r\u001b[K     |██████████████████████████▌     | 1.4 MB 22.5 MB/s eta 0:00:01\r\u001b[K     |██████████████████████████▊     | 1.4 MB 22.5 MB/s eta 0:00:01\r\u001b[K     |███████████████████████████     | 1.4 MB 22.5 MB/s eta 0:00:01\r\u001b[K     |███████████████████████████▏    | 1.4 MB 22.5 MB/s eta 0:00:01\r\u001b[K     |███████████████████████████▍    | 1.4 MB 22.5 MB/s eta 0:00:01\r\u001b[K     |███████████████████████████▋    | 1.4 MB 22.5 MB/s eta 0:00:01\r\u001b[K     |███████████████████████████▊    | 1.4 MB 22.5 MB/s eta 0:00:01\r\u001b[K     |████████████████████████████    | 1.4 MB 22.5 MB/s eta 0:00:01\r\u001b[K     |████████████████████████████▏   | 1.4 MB 22.5 MB/s eta 0:00:01\r\u001b[K     |████████████████████████████▍   | 1.4 MB 22.5 MB/s eta 0:00:01\r\u001b[K     |████████████████████████████▋   | 1.5 MB 22.5 MB/s eta 0:00:01\r\u001b[K     |████████████████████████████▊   | 1.5 MB 22.5 MB/s eta 0:00:01\r\u001b[K     |█████████████████████████████   | 1.5 MB 22.5 MB/s eta 0:00:01\r\u001b[K     |█████████████████████████████▏  | 1.5 MB 22.5 MB/s eta 0:00:01\r\u001b[K     |█████████████████████████████▍  | 1.5 MB 22.5 MB/s eta 0:00:01\r\u001b[K     |█████████████████████████████▋  | 1.5 MB 22.5 MB/s eta 0:00:01\r\u001b[K     |█████████████████████████████▊  | 1.5 MB 22.5 MB/s eta 0:00:01\r\u001b[K     |██████████████████████████████  | 1.5 MB 22.5 MB/s eta 0:00:01\r\u001b[K     |██████████████████████████████▏ | 1.5 MB 22.5 MB/s eta 0:00:01\r\u001b[K     |██████████████████████████████▍ | 1.5 MB 22.5 MB/s eta 0:00:01\r\u001b[K     |██████████████████████████████▋ | 1.6 MB 22.5 MB/s eta 0:00:01\r\u001b[K     |██████████████████████████████▊ | 1.6 MB 22.5 MB/s eta 0:00:01\r\u001b[K     |███████████████████████████████ | 1.6 MB 22.5 MB/s eta 0:00:01\r\u001b[K     |███████████████████████████████▏| 1.6 MB 22.5 MB/s eta 0:00:01\r\u001b[K     |███████████████████████████████▍| 1.6 MB 22.5 MB/s eta 0:00:01\r\u001b[K     |███████████████████████████████▋| 1.6 MB 22.5 MB/s eta 0:00:01\r\u001b[K     |███████████████████████████████▉| 1.6 MB 22.5 MB/s eta 0:00:01\r\u001b[K     |████████████████████████████████| 1.6 MB 22.5 MB/s eta 0:00:01\r\u001b[K     |████████████████████████████████| 1.6 MB 22.5 MB/s \n",
            "\u001b[?25hRequirement already satisfied: scipy>=1.0 in /usr/local/lib/python3.7/dist-packages (from camb) (1.4.1)\n",
            "Requirement already satisfied: sympy>=1.0 in /usr/local/lib/python3.7/dist-packages (from camb) (1.7.1)\n",
            "Requirement already satisfied: numpy>=1.13.3 in /usr/local/lib/python3.7/dist-packages (from scipy>=1.0->camb) (1.19.5)\n",
            "Requirement already satisfied: mpmath>=0.19 in /usr/local/lib/python3.7/dist-packages (from sympy>=1.0->camb) (1.2.1)\n",
            "Building wheels for collected packages: camb\n",
            "  Building wheel for camb (setup.py) ... \u001b[?25l\u001b[?25hdone\n",
            "  Created wheel for camb: filename=camb-1.3.2-py3-none-any.whl size=1009274 sha256=b91fc9fc3bb697ef8e194b878197378dcc58bf77f45c4ad4a81a30b63409d062\n",
            "  Stored in directory: /root/.cache/pip/wheels/d3/c1/34/87632240be4218d112bc9b47c18e92ef81bfb6bc1e1f0f0a72\n",
            "Successfully built camb\n",
            "Installing collected packages: camb\n",
            "Successfully installed camb-1.3.2\n"
          ]
        }
      ]
    },
    {
      "cell_type": "markdown",
      "metadata": {
        "id": "FdMnQJKNw7Ct"
      },
      "source": [
        "### Import Libraries"
      ]
    },
    {
      "cell_type": "code",
      "metadata": {
        "id": "nAVN3Xd1K-GP"
      },
      "source": [
        "import numpy as np\n",
        "import camb\n",
        "from scipy.integrate import simps\n",
        "from astropy.cosmology import FlatLambdaCDM\n",
        "from astropy import constants as const\n",
        "from scipy.interpolate import interp1d\n",
        "import astropy.units as u\n",
        "import astropy.io.fits as fits\n",
        "import matplotlib.pyplot as plt\n"
      ],
      "execution_count": 25,
      "outputs": []
    },
    {
      "cell_type": "markdown",
      "metadata": {
        "id": "CxFO3qmLw-hL"
      },
      "source": [
        "### Set the cosmological model"
      ]
    },
    {
      "cell_type": "code",
      "metadata": {
        "id": "7VKOfEKGpp_i"
      },
      "source": [
        "h=0.7\n",
        "omega_b=0.04\n",
        "omega_m=0.25\n",
        "A_baryon1=2.0\n",
        "mnu=1.0\n",
        "sigma_8=0.8\n",
        "n_s=0.96\n",
        "\n",
        "cosmo = FlatLambdaCDM(H0 = h*100., Om0 = omega_m)\n",
        "pars = camb.CAMBparams()\n",
        "\n",
        "#pars.set_cosmology(H0=h*100., ombh2=omega_b*h**2, omch2=(omega_m -omega_b)*h**2 - mnu/93.14, mnu=mnu,omk=0., tau=0.066)\n",
        "pars.set_cosmology(H0=h*100., ombh2=omega_b*h**2, omch2=(omega_m -omega_b)*h**2 - mnu/93.14, mnu=mnu,omk=0., tau=0.066)\n",
        "\n",
        "pars.InitPower.set_params(As=2e-09,ns=n_s, r=0)\n",
        "pars.set_matter_power()\n",
        "results = camb.get_results(pars)\n",
        "sigma8=results.get_sigma8()\n",
        "#print results.get_sigma8()\n",
        "desired_sigma8=sigma_8\n",
        "pars.InitPower.set_params(As=2e-09*desired_sigma8**2/sigma8**2,ns=n_s, r=0)\n",
        "pars.NonLinearModel.set_params(halofit_version='mead')\n",
        "pars.set_matter_power()\n",
        "\n",
        "PK1 = camb.get_matter_power_interpolator(pars, k_hunit =False, hubble_units = False, kmax =100)\n"
      ],
      "execution_count": 68,
      "outputs": []
    },
    {
      "cell_type": "markdown",
      "metadata": {
        "id": "bMa-8GkQxEn0"
      },
      "source": [
        "### Plot the matter power spectrum at fixed redshift"
      ]
    },
    {
      "cell_type": "code",
      "metadata": {
        "colab": {
          "base_uri": "https://localhost:8080/",
          "height": 305
        },
        "id": "Xa7RbQ8ks7yC",
        "outputId": "1f0dc304-3cd6-48aa-f100-af1087dcd144"
      },
      "source": [
        "kval=10**np.arange(-4,1,0.1)\n",
        "plt.loglog(kval,PK1.P(1,kval),'-')\n",
        "plt.xlabel('k (1/Mpc)')\n",
        "plt.ylabel('P(k)')"
      ],
      "execution_count": 73,
      "outputs": [
        {
          "output_type": "execute_result",
          "data": {
            "text/plain": [
              "Text(0, 0.5, 'P(k)')"
            ]
          },
          "metadata": {},
          "execution_count": 73
        },
        {
          "output_type": "display_data",
          "data": {
            "image/png": "[encoded data removed]",
            "text/plain": [
              "<Figure size 432x288 with 1 Axes>"
            ]
          },
          "metadata": {
            "needs_background": "light"
          }
        }
      ]
    },
    {
      "cell_type": "markdown",
      "metadata": {
        "id": "Jw_EMVkQxOAM"
      },
      "source": [
        "### create the lensing power spectrum"
      ]
    },
    {
      "cell_type": "code",
      "metadata": {
        "id": "2nkMGUOdLKFw"
      },
      "source": [
        "def dz_dx_func(z, cosmo):\n",
        "    dx_dz = const.c.to('km/s')/cosmo.H0/np.sqrt(cosmo.Om0*(1.+z)**3 + cosmo.Ok0*(1.+z)**2 + (1-cosmo.Om0 - cosmo.Ok0) )\n",
        "    dz_dx = 1./dx_dz\n",
        "    return dz_dx.value\n",
        "\n",
        "def g(z,p_z,cosmo):\n",
        "    x= cosmo.comoving_distance(z).value\n",
        "    \n",
        "    dz_dx = dz_dx_func(z,cosmo)\n",
        "    \n",
        "    p_x = p_z*dz_dx\n",
        "    p_x = p_x/simps(p_x, x)\n",
        "    \n",
        "    gi = np.zeros(len(x))\n",
        "    \n",
        "    for i in range(1,len(x)):\n",
        "        \n",
        "        x_prime = x[i:]\n",
        "        z_prime = z[i:]\n",
        "        \n",
        "        gi[i] = simps(p_x[i:]*cosmo._comoving_transverse_distance_z1z2(z[i],z_prime)/cosmo.comoving_transverse_distance(z_prime),x_prime)\n",
        "        \n",
        "    return x, gi\n",
        "\n",
        "def g_func(x_input,x_min, x_max, g_interp):\n",
        "    \n",
        "    if x_input < x_min :\n",
        "        return g_interp(x_min)\n",
        "    elif x_input > x_max:\n",
        "        return g_interp(x_max)\n",
        "    else:\n",
        "        return g_interp(x_input)\n",
        "\n",
        "vg_func = np.vectorize(g_func)\n",
        "\n",
        "\n",
        "def p_func(x_input,x_min, x_max, p_interp):\n",
        "    \n",
        "    if x_input < x_min :\n",
        "        return 0.\n",
        "    elif x_input > x_max:\n",
        "        return 0.\n",
        "    else:\n",
        "        return p_interp(x_input)\n",
        "\n",
        "vp_func = np.vectorize(p_func)\n",
        "\n",
        "#def Dz(z,cosmo):\n",
        "#    Omega_m,Omega_lambda = cosmo.Om(z), cosmo.Ode(z)\n",
        "#    return 1./(1+z)*5./2.*Omega_m*( Omega_m**(4./7.) - Omega_lambda + ( 1. + Omega_m/2.)*(1. +Omega_lambda/70.))**(-1)\n",
        "\n",
        "def P_mm_ell(ell, z_1,p_z1,z_2, p_z2, cosmo, PK):\n",
        "\n",
        "    A_factor = cosmo.scale_factor(z_1)\n",
        "    fk = (cosmo.angular_diameter_distance(z_1).value*(1.+z_1)) # (1+z) factor: converted to comoving scale.\n",
        "    \n",
        "    factor = 9./4.*cosmo.Om0**2*(cosmo.H0/const.c.to('km/s'))**4\n",
        "    \n",
        "    x_1, g_1 = g(z_1,p_z1,cosmo)\n",
        "    x_2, g_2 = g(z_2,p_z2,cosmo)\n",
        "\n",
        "    g_interp = interp1d(x_2, g_2, kind = 'cubic')\n",
        "    g2_at_1 = vg_func(x_1 ,min(x_2), max(x_2), g_interp)\n",
        "\n",
        "    vec = g_1*g2_at_1/A_factor**2\n",
        "    \n",
        "    PS = np.zeros((len(x_1), len(ell)))\n",
        "\n",
        "    for i in range(len(x_1)):\n",
        "        PS[i] = PK.P(z_1[i],((ell+1./2.)/fk[i]))\n",
        "    \n",
        "    PS_ell = np.zeros(len(ell))\n",
        "    for i in range(len(ell)):\n",
        "        \n",
        "        PS_ell[i] = simps(PS[:,i]*vec,x_1)\n",
        "    \n",
        "    return (factor*PS_ell).value\n"
      ],
      "execution_count": 89,
      "outputs": []
    },
    {
      "cell_type": "code",
      "metadata": {
        "id": "yVRvfVFANq0x",
        "colab": {
          "base_uri": "https://localhost:8080/",
          "height": 303
        },
        "outputId": "4736ef9b-f238-4664-c1db-da73ab11c6ea"
      },
      "source": [
        "ell=np.asarray((100.,200.))\n",
        "ell=10**np.arange(1,4,0.1)\n",
        "\n",
        "err=np.sqrt(np.diag(cov[112:120,112:120]))\n",
        "\n",
        "pl=P_mm_ell(ell, z,nz,z, nz, cosmo, PK1)\n",
        "plt.loglog(ell,pl*ell**2)\n",
        "plt.plot(ell_data[-8:],pl_data[-8:],'r.')\n",
        "plt.errorbar(ell_data[-8:],pl_data[-8:],yerr=err,linestyle='None')\n",
        "plt.ylabel(r'$P(\\ell)$')\n",
        "plt.xlabel(r'$\\ell$')\n"
      ],
      "execution_count": 102,
      "outputs": [
        {
          "output_type": "execute_result",
          "data": {
            "text/plain": [
              "Text(0.5, 0, '$\\\\ell$')"
            ]
          },
          "metadata": {},
          "execution_count": 102
        },
        {
          "output_type": "display_data",
          "data": {
            "image/png": "[encoded data removed]",
            "text/plain": [
              "<Figure size 432x288 with 1 Axes>"
            ]
          },
          "metadata": {
            "needs_background": "light"
          }
        }
      ]
    },
    {
      "cell_type": "code",
      "metadata": {
        "colab": {
          "base_uri": "https://localhost:8080/"
        },
        "id": "cV_YU3g4jUny",
        "outputId": "5eee319f-c84e-4dab-e255-c397ba198097"
      },
      "source": [
        "!wget http://kids.strw.leidenuniv.nl/DR4/data_files/KiDS1000_cosmic_shear_data_release.tgz"
      ],
      "execution_count": 4,
      "outputs": [
        {
          "output_type": "stream",
          "name": "stdout",
          "text": [
            "--2021-11-15 12:23:28--  http://kids.strw.leidenuniv.nl/DR4/data_files/KiDS1000_cosmic_shear_data_release.tgz\n",
            "Resolving kids.strw.leidenuniv.nl (kids.strw.leidenuniv.nl)... 132.229.214.179\n",
            "Connecting to kids.strw.leidenuniv.nl (kids.strw.leidenuniv.nl)|132.229.214.179|:80... connected.\n",
            "HTTP request sent, awaiting response... 200 OK\n",
            "Length: 17283861 (16M) [application/x-gzip]\n",
            "Saving to: ‘KiDS1000_cosmic_shear_data_release.tgz’\n",
            "\n",
            "KiDS1000_cosmic_she 100%[===================>]  16.48M  15.1MB/s    in 1.1s    \n",
            "\n",
            "2021-11-15 12:23:30 (15.1 MB/s) - ‘KiDS1000_cosmic_shear_data_release.tgz’ saved [17283861/17283861]\n",
            "\n"
          ]
        }
      ]
    },
    {
      "cell_type": "code",
      "metadata": {
        "colab": {
          "base_uri": "https://localhost:8080/"
        },
        "id": "11IaLEq_jWBm",
        "outputId": "11d9649c-0677-429b-8a29-d630649cdd45"
      },
      "source": [
        "!tar -zxvf KiDS1000_cosmic_shear_data_release.tgz"
      ],
      "execution_count": 5,
      "outputs": [
        {
          "output_type": "stream",
          "name": "stdout",
          "text": [
            "KiDS1000_cosmis_shear_data_release/\n",
            "KiDS1000_cosmis_shear_data_release/._.DS_Store\n",
            "KiDS1000_cosmis_shear_data_release/.DS_Store\n",
            "KiDS1000_cosmis_shear_data_release/Read.me\n",
            "KiDS1000_cosmis_shear_data_release/chains_and_config_files/\n",
            "KiDS1000_cosmis_shear_data_release/Plotting/\n",
            "KiDS1000_cosmis_shear_data_release/data_fits/\n",
            "KiDS1000_cosmis_shear_data_release/data_fits/cosebis_KIDS1000_BlindC_with_m_bias_V1.0.0A_ugriZYJHKs_photoz_SG_mask_LF_svn_309c_2Dbins_v2_goldclasses_Flag_SOM_Fid.fits\n",
            "KiDS1000_cosmis_shear_data_release/data_fits/xipm_KIDS1000_BlindC_with_m_bias_V1.0.0A_ugriZYJHKs_photoz_SG_mask_LF_svn_309c_2Dbins_v2_goldclasses_Flag_SOM_Fid.fits\n",
            "KiDS1000_cosmis_shear_data_release/data_fits/read_data_files.py\n",
            "KiDS1000_cosmis_shear_data_release/data_fits/bp_KIDS1000_BlindC_with_m_bias_V1.0.0A_ugriZYJHKs_photoz_SG_mask_LF_svn_309c_2Dbins_v2_goldclasses_Flag_SOM_Fid.fits\n",
            "KiDS1000_cosmis_shear_data_release/Plotting/._plot_chains.py\n",
            "KiDS1000_cosmis_shear_data_release/Plotting/plot_chains.py\n",
            "KiDS1000_cosmis_shear_data_release/Plotting/._.DS_Store\n",
            "KiDS1000_cosmis_shear_data_release/Plotting/.DS_Store\n",
            "KiDS1000_cosmis_shear_data_release/Plotting/._chain_functions.py\n",
            "KiDS1000_cosmis_shear_data_release/Plotting/chain_functions.py\n",
            "KiDS1000_cosmis_shear_data_release/chains_and_config_files/main_chains_iterative_covariance/\n",
            "KiDS1000_cosmis_shear_data_release/chains_and_config_files/main_chains_iterative_covariance/cosebis/\n",
            "KiDS1000_cosmis_shear_data_release/chains_and_config_files/main_chains_iterative_covariance/bp/\n",
            "KiDS1000_cosmis_shear_data_release/chains_and_config_files/main_chains_iterative_covariance/xipm/\n",
            "KiDS1000_cosmis_shear_data_release/chains_and_config_files/main_chains_iterative_covariance/xipm/config/\n",
            "KiDS1000_cosmis_shear_data_release/chains_and_config_files/main_chains_iterative_covariance/xipm/chain/\n",
            "KiDS1000_cosmis_shear_data_release/chains_and_config_files/main_chains_iterative_covariance/xipm/chain/output_multinest_C.txt\n",
            "KiDS1000_cosmis_shear_data_release/chains_and_config_files/main_chains_iterative_covariance/xipm/chain/maxpost_multinest_start_C.txt\n",
            "KiDS1000_cosmis_shear_data_release/chains_and_config_files/main_chains_iterative_covariance/xipm/config/pipeline.ini\n",
            "KiDS1000_cosmis_shear_data_release/chains_and_config_files/main_chains_iterative_covariance/xipm/config/priors.ini\n",
            "KiDS1000_cosmis_shear_data_release/chains_and_config_files/main_chains_iterative_covariance/xipm/config/values.ini\n",
            "KiDS1000_cosmis_shear_data_release/chains_and_config_files/main_chains_iterative_covariance/bp/config/\n",
            "KiDS1000_cosmis_shear_data_release/chains_and_config_files/main_chains_iterative_covariance/bp/chain/\n",
            "KiDS1000_cosmis_shear_data_release/chains_and_config_files/main_chains_iterative_covariance/bp/chain/output_multinest_C.txt\n",
            "KiDS1000_cosmis_shear_data_release/chains_and_config_files/main_chains_iterative_covariance/bp/chain/maxpost_multinest_start_C.txt\n",
            "KiDS1000_cosmis_shear_data_release/chains_and_config_files/main_chains_iterative_covariance/bp/config/pipeline.ini\n",
            "KiDS1000_cosmis_shear_data_release/chains_and_config_files/main_chains_iterative_covariance/bp/config/priors.ini\n",
            "KiDS1000_cosmis_shear_data_release/chains_and_config_files/main_chains_iterative_covariance/bp/config/values.ini\n",
            "KiDS1000_cosmis_shear_data_release/chains_and_config_files/main_chains_iterative_covariance/cosebis/config/\n",
            "KiDS1000_cosmis_shear_data_release/chains_and_config_files/main_chains_iterative_covariance/cosebis/chain/\n",
            "KiDS1000_cosmis_shear_data_release/chains_and_config_files/main_chains_iterative_covariance/cosebis/chain/output_multinest_C.txt\n",
            "KiDS1000_cosmis_shear_data_release/chains_and_config_files/main_chains_iterative_covariance/cosebis/chain/maxpost_multinest_start_C.txt\n",
            "KiDS1000_cosmis_shear_data_release/chains_and_config_files/main_chains_iterative_covariance/cosebis/config/pipeline.ini\n",
            "KiDS1000_cosmis_shear_data_release/chains_and_config_files/main_chains_iterative_covariance/cosebis/config/priors.ini\n",
            "KiDS1000_cosmis_shear_data_release/chains_and_config_files/main_chains_iterative_covariance/cosebis/config/values.ini\n"
          ]
        }
      ]
    },
    {
      "cell_type": "code",
      "metadata": {
        "colab": {
          "base_uri": "https://localhost:8080/"
        },
        "id": "DQpZmKBKjbk8",
        "outputId": "92af902d-25d1-4582-f4d5-5db902afedef"
      },
      "source": [
        "stats_name ='bp'\n",
        "dir='KiDS1000_cosmis_shear_data_release/data_fits/'\n",
        "cat_version = 'V1.0.0A_ugriZYJHKs_photoz_SG_mask_LF_svn_309c_2Dbins_v2_goldclasses_Flag_SOM_Fid'\n",
        "filename = dir+stats_name+'_KIDS1000_BlindC_with_m_bias_'+cat_version+'.fits'\n",
        "F=fits.open(filename)\n",
        "\n",
        "# Gives the names of all the extension\n",
        "F.info()\n"
      ],
      "execution_count": 18,
      "outputs": [
        {
          "output_type": "stream",
          "name": "stdout",
          "text": [
            "Filename: KiDS1000_cosmis_shear_data_release/data_fits/bp_KIDS1000_BlindC_with_m_bias_V1.0.0A_ugriZYJHKs_photoz_SG_mask_LF_svn_309c_2Dbins_v2_goldclasses_Flag_SOM_Fid.fits\n",
            "No.    Name      Ver    Type      Cards   Dimensions   Format\n",
            "  0  PRIMARY       1 PrimaryHDU       4   ()      \n",
            "  1  COVMAT        1 ImageHDU        13   (200, 200)   float64   \n",
            "  2  PneE          1 BinTableHDU     29   80R x 5C   [K, K, K, D, D]   \n",
            "  3  PeeE          1 BinTableHDU     29   120R x 5C   [K, K, K, D, D]   \n",
            "  4  NZ_LENS       1 BinTableHDU     22   79R x 5C   [D, D, D, D, D]   \n",
            "  5  NZ_SOURCE     1 BinTableHDU     36   119R x 8C   [D, D, D, D, D, D, D, D]   \n"
          ]
        }
      ]
    },
    {
      "cell_type": "code",
      "metadata": {
        "id": "Y_pGaY0DkOIU"
      },
      "source": [
        "# Covariance matrix\n",
        "ext=F[\"COVMAT\"]\n",
        "cov=ext.data\n",
        "\n",
        "# cosmic shear data vector\n",
        "ext=F['PeeE']\n",
        "data_vector=ext.data['VALUE']\n",
        "\n",
        "# nofz sources (shear)\n",
        "ext=F[\"nz_source\"]\n",
        "\n",
        "#F.close()\n"
      ],
      "execution_count": 90,
      "outputs": []
    },
    {
      "cell_type": "code",
      "metadata": {
        "colab": {
          "base_uri": "https://localhost:8080/",
          "height": 283
        },
        "id": "1jARtxuwklop",
        "outputId": "cde0db07-759d-44c6-c8a8-697b2d7d1ccf"
      },
      "source": [
        "pl_data=F['PeeE'].data['Value']\n",
        "ell_data=F['PeeE'].data['Ang']\n",
        "plt.plot(ell_data[-8:],pl_data[-8:],'.')"
      ],
      "execution_count": 85,
      "outputs": [
        {
          "output_type": "execute_result",
          "data": {
            "text/plain": [
              "[<matplotlib.lines.Line2D at 0x7f42d37a0e10>]"
            ]
          },
          "metadata": {},
          "execution_count": 85
        },
        {
          "output_type": "display_data",
          "data": {
            "image/png": "[encoded data removed]",
            "text/plain": [
              "<Figure size 432x288 with 1 Axes>"
            ]
          },
          "metadata": {
            "needs_background": "light"
          }
        }
      ]
    },
    {
      "cell_type": "code",
      "metadata": {
        "colab": {
          "base_uri": "https://localhost:8080/"
        },
        "id": "gJNl3iShkm_U",
        "outputId": "f30a86c1-d721-4d49-b14c-67ef4c47ce79"
      },
      "source": [
        "# GGL data vector\n",
        "ext=F['PeeE']\n",
        "data_vector=ext.data['VALUE']\n",
        "\n",
        "ext.data\n"
      ],
      "execution_count": 31,
      "outputs": [
        {
          "output_type": "execute_result",
          "data": {
            "text/plain": [
              "FITS_rec([(1, 1, 1, -6.48605359e-06,  118.44199222),\n",
              "          (1, 1, 2, -2.53898590e-05,  166.15641416),\n",
              "          (1, 1, 3,  2.88190693e-05,  233.09261732),\n",
              "          (1, 1, 4,  2.34838865e-05,  326.99410688),\n",
              "          (1, 1, 5,  5.08786488e-06,  458.72386334),\n",
              "          (1, 1, 6,  1.88461980e-05,  643.52102491),\n",
              "          (1, 1, 7, -7.92423462e-05,  902.76382502),\n",
              "          (1, 1, 8,  5.39553118e-04, 1266.44273027),\n",
              "          (1, 2, 1, -3.65071754e-06,  118.44199222),\n",
              "          (1, 2, 2,  1.47162393e-05,  166.15641416),\n",
              "          (1, 2, 3,  1.17010141e-05,  233.09261732),\n",
              "          (1, 2, 4,  3.19546881e-06,  326.99410688),\n",
              "          (1, 2, 5,  3.68246406e-05,  458.72386334),\n",
              "          (1, 2, 6,  1.38584033e-06,  643.52102491),\n",
              "          (1, 2, 7,  1.25762863e-05,  902.76382502),\n",
              "          (1, 2, 8,  1.47464772e-04, 1266.44273027),\n",
              "          (1, 3, 1, -2.58813222e-05,  118.44199222),\n",
              "          (1, 3, 2,  1.50333057e-05,  166.15641416),\n",
              "          (1, 3, 3,  6.77309391e-06,  233.09261732),\n",
              "          (1, 3, 4,  3.50865325e-06,  326.99410688),\n",
              "          (1, 3, 5, -2.76195241e-05,  458.72386334),\n",
              "          (1, 3, 6,  3.05381997e-05,  643.52102491),\n",
              "          (1, 3, 7,  4.59502073e-05,  902.76382502),\n",
              "          (1, 3, 8,  6.00572747e-05, 1266.44273027),\n",
              "          (1, 4, 1,  5.35132125e-06,  118.44199222),\n",
              "          (1, 4, 2, -1.25025013e-05,  166.15641416),\n",
              "          (1, 4, 3, -4.07694666e-06,  233.09261732),\n",
              "          (1, 4, 4,  3.12755986e-05,  326.99410688),\n",
              "          (1, 4, 5,  4.95147842e-05,  458.72386334),\n",
              "          (1, 4, 6, -3.62773630e-05,  643.52102491),\n",
              "          (1, 4, 7, -2.79981434e-05,  902.76382502),\n",
              "          (1, 4, 8,  4.21705074e-05, 1266.44273027),\n",
              "          (1, 5, 1, -2.40832003e-05,  118.44199222),\n",
              "          (1, 5, 2,  1.37545041e-05,  166.15641416),\n",
              "          (1, 5, 3, -1.03823001e-05,  233.09261732),\n",
              "          (1, 5, 4,  8.43196201e-05,  326.99410688),\n",
              "          (1, 5, 5, -4.33115455e-05,  458.72386334),\n",
              "          (1, 5, 6,  5.72401636e-05,  643.52102491),\n",
              "          (1, 5, 7, -6.92326163e-05,  902.76382502),\n",
              "          (1, 5, 8,  2.18107057e-06, 1266.44273027),\n",
              "          (2, 2, 1,  1.76827403e-05,  118.44199222),\n",
              "          (2, 2, 2,  8.82119314e-06,  166.15641416),\n",
              "          (2, 2, 3,  3.92315285e-05,  233.09261732),\n",
              "          (2, 2, 4,  4.63113654e-05,  326.99410688),\n",
              "          (2, 2, 5,  2.67625986e-05,  458.72386334),\n",
              "          (2, 2, 6,  1.16519043e-04,  643.52102491),\n",
              "          (2, 2, 7,  8.25576630e-05,  902.76382502),\n",
              "          (2, 2, 8,  2.29114267e-04, 1266.44273027),\n",
              "          (2, 3, 1,  1.02157074e-05,  118.44199222),\n",
              "          (2, 3, 2,  7.89842292e-06,  166.15641416),\n",
              "          (2, 3, 3,  3.42492678e-05,  233.09261732),\n",
              "          (2, 3, 4,  4.63916225e-05,  326.99410688),\n",
              "          (2, 3, 5,  5.58480455e-05,  458.72386334),\n",
              "          (2, 3, 6,  9.26062157e-05,  643.52102491),\n",
              "          (2, 3, 7,  1.24977563e-04,  902.76382502),\n",
              "          (2, 3, 8,  1.09770264e-04, 1266.44273027),\n",
              "          (2, 4, 1,  1.25000682e-05,  118.44199222),\n",
              "          (2, 4, 2,  1.31169205e-05,  166.15641416),\n",
              "          (2, 4, 3,  1.67158505e-05,  233.09261732),\n",
              "          (2, 4, 4,  6.29347369e-05,  326.99410688),\n",
              "          (2, 4, 5,  7.83054604e-05,  458.72386334),\n",
              "          (2, 4, 6,  1.00165729e-04,  643.52102491),\n",
              "          (2, 4, 7,  2.98863626e-05,  902.76382502),\n",
              "          (2, 4, 8,  8.98075675e-05, 1266.44273027),\n",
              "          (2, 5, 1,  7.97001486e-06,  118.44199222),\n",
              "          (2, 5, 2,  1.13734899e-05,  166.15641416),\n",
              "          (2, 5, 3,  3.80239578e-05,  233.09261732),\n",
              "          (2, 5, 4,  1.36658229e-05,  326.99410688),\n",
              "          (2, 5, 5,  7.12534061e-05,  458.72386334),\n",
              "          (2, 5, 6,  8.91743325e-05,  643.52102491),\n",
              "          (2, 5, 7,  6.93666727e-05,  902.76382502),\n",
              "          (2, 5, 8,  1.29602219e-05, 1266.44273027),\n",
              "          (3, 3, 1,  1.00227557e-05,  118.44199222),\n",
              "          (3, 3, 2,  1.48683065e-05,  166.15641416),\n",
              "          (3, 3, 3,  1.45054302e-05,  233.09261732),\n",
              "          (3, 3, 4,  5.47442280e-05,  326.99410688),\n",
              "          (3, 3, 5,  3.92179358e-05,  458.72386334),\n",
              "          (3, 3, 6,  7.16134600e-05,  643.52102491),\n",
              "          (3, 3, 7,  1.48487635e-04,  902.76382502),\n",
              "          (3, 3, 8,  5.62355783e-05, 1266.44273027),\n",
              "          (3, 4, 1,  1.45934132e-05,  118.44199222),\n",
              "          (3, 4, 2,  2.45414050e-05,  166.15641416),\n",
              "          (3, 4, 3,  4.36206602e-05,  233.09261732),\n",
              "          (3, 4, 4,  6.25811956e-05,  326.99410688),\n",
              "          (3, 4, 5,  8.43463009e-05,  458.72386334),\n",
              "          (3, 4, 6,  3.80677366e-05,  643.52102491),\n",
              "          (3, 4, 7,  9.50781697e-05,  902.76382502),\n",
              "          (3, 4, 8,  1.84123128e-04, 1266.44273027),\n",
              "          (3, 5, 1,  1.62344788e-05,  118.44199222),\n",
              "          (3, 5, 2,  4.87982112e-05,  166.15641416),\n",
              "          (3, 5, 3,  3.97685731e-05,  233.09261732),\n",
              "          (3, 5, 4,  6.15071565e-05,  326.99410688),\n",
              "          (3, 5, 5,  8.65680354e-05,  458.72386334),\n",
              "          (3, 5, 6,  5.99722610e-05,  643.52102491),\n",
              "          (3, 5, 7,  1.96194422e-04,  902.76382502),\n",
              "          (3, 5, 8,  8.34463418e-05, 1266.44273027),\n",
              "          (4, 4, 1,  5.12408023e-05,  118.44199222),\n",
              "          (4, 4, 2,  3.72214159e-05,  166.15641416),\n",
              "          (4, 4, 3,  4.55337199e-05,  233.09261732),\n",
              "          (4, 4, 4,  1.07540954e-04,  326.99410688),\n",
              "          (4, 4, 5,  8.78422068e-05,  458.72386334),\n",
              "          (4, 4, 6,  1.52676714e-04,  643.52102491),\n",
              "          (4, 4, 7,  1.11100689e-04,  902.76382502),\n",
              "          (4, 4, 8,  1.30312545e-04, 1266.44273027),\n",
              "          (4, 5, 1,  4.66420065e-05,  118.44199222),\n",
              "          (4, 5, 2,  6.58308605e-05,  166.15641416),\n",
              "          (4, 5, 3,  7.16903220e-05,  233.09261732),\n",
              "          (4, 5, 4,  1.14484622e-04,  326.99410688),\n",
              "          (4, 5, 5,  8.56519190e-05,  458.72386334),\n",
              "          (4, 5, 6,  1.29057078e-04,  643.52102491),\n",
              "          (4, 5, 7,  1.99033904e-04,  902.76382502),\n",
              "          (4, 5, 8,  2.44341637e-04, 1266.44273027),\n",
              "          (5, 5, 1,  6.48045408e-05,  118.44199222),\n",
              "          (5, 5, 2,  1.17159203e-04,  166.15641416),\n",
              "          (5, 5, 3,  9.90526680e-05,  233.09261732),\n",
              "          (5, 5, 4,  1.77145551e-04,  326.99410688),\n",
              "          (5, 5, 5,  1.48896310e-04,  458.72386334),\n",
              "          (5, 5, 6,  1.72300861e-04,  643.52102491),\n",
              "          (5, 5, 7,  3.07603371e-04,  902.76382502),\n",
              "          (5, 5, 8,  4.40663091e-04, 1266.44273027)],\n",
              "         dtype=(numpy.record, [('BIN1', '>i8'), ('BIN2', '>i8'), ('ANGBIN', '>i8'), ('VALUE', '>f8'), ('ANG', '>f8')]))"
            ]
          },
          "metadata": {},
          "execution_count": 31
        }
      ]
    },
    {
      "cell_type": "code",
      "metadata": {
        "colab": {
          "base_uri": "https://localhost:8080/",
          "height": 297
        },
        "id": "pwXHP9nqk3h_",
        "outputId": "64e39285-b837-4cee-8731-9b233bc265b0"
      },
      "source": [
        "a=F[\"nz_source\"]\n",
        "z=a.data['Z_MID']\n",
        "nz=a.data['BIN5']\n",
        "plt.plot(z,nz,'-')\n",
        "plt.xlabel('z')\n",
        "plt.ylabel('N(z)')\n",
        "plt.xlim((0,2.5))"
      ],
      "execution_count": 75,
      "outputs": [
        {
          "output_type": "execute_result",
          "data": {
            "text/plain": [
              "(0.0, 2.5)"
            ]
          },
          "metadata": {},
          "execution_count": 75
        },
        {
          "output_type": "display_data",
          "data": {
            "image/png": "[encoded data removed]",
            "text/plain": [
              "<Figure size 432x288 with 1 Axes>"
            ]
          },
          "metadata": {
            "needs_background": "light"
          }
        }
      ]
    },
    {
      "cell_type": "code",
      "metadata": {
        "colab": {
          "base_uri": "https://localhost:8080/"
        },
        "id": "qFXa0o1Rnrn7",
        "outputId": "b5a301ea-a618-4192-d193-08780f17a813"
      },
      "source": [
        "F['PeeE'].data"
      ],
      "execution_count": 45,
      "outputs": [
        {
          "output_type": "execute_result",
          "data": {
            "text/plain": [
              "FITS_rec([(1, 1, 1, -6.48605359e-06,  118.44199222),\n",
              "          (1, 1, 2, -2.53898590e-05,  166.15641416),\n",
              "          (1, 1, 3,  2.88190693e-05,  233.09261732),\n",
              "          (1, 1, 4,  2.34838865e-05,  326.99410688),\n",
              "          (1, 1, 5,  5.08786488e-06,  458.72386334),\n",
              "          (1, 1, 6,  1.88461980e-05,  643.52102491),\n",
              "          (1, 1, 7, -7.92423462e-05,  902.76382502),\n",
              "          (1, 1, 8,  5.39553118e-04, 1266.44273027),\n",
              "          (1, 2, 1, -3.65071754e-06,  118.44199222),\n",
              "          (1, 2, 2,  1.47162393e-05,  166.15641416),\n",
              "          (1, 2, 3,  1.17010141e-05,  233.09261732),\n",
              "          (1, 2, 4,  3.19546881e-06,  326.99410688),\n",
              "          (1, 2, 5,  3.68246406e-05,  458.72386334),\n",
              "          (1, 2, 6,  1.38584033e-06,  643.52102491),\n",
              "          (1, 2, 7,  1.25762863e-05,  902.76382502),\n",
              "          (1, 2, 8,  1.47464772e-04, 1266.44273027),\n",
              "          (1, 3, 1, -2.58813222e-05,  118.44199222),\n",
              "          (1, 3, 2,  1.50333057e-05,  166.15641416),\n",
              "          (1, 3, 3,  6.77309391e-06,  233.09261732),\n",
              "          (1, 3, 4,  3.50865325e-06,  326.99410688),\n",
              "          (1, 3, 5, -2.76195241e-05,  458.72386334),\n",
              "          (1, 3, 6,  3.05381997e-05,  643.52102491),\n",
              "          (1, 3, 7,  4.59502073e-05,  902.76382502),\n",
              "          (1, 3, 8,  6.00572747e-05, 1266.44273027),\n",
              "          (1, 4, 1,  5.35132125e-06,  118.44199222),\n",
              "          (1, 4, 2, -1.25025013e-05,  166.15641416),\n",
              "          (1, 4, 3, -4.07694666e-06,  233.09261732),\n",
              "          (1, 4, 4,  3.12755986e-05,  326.99410688),\n",
              "          (1, 4, 5,  4.95147842e-05,  458.72386334),\n",
              "          (1, 4, 6, -3.62773630e-05,  643.52102491),\n",
              "          (1, 4, 7, -2.79981434e-05,  902.76382502),\n",
              "          (1, 4, 8,  4.21705074e-05, 1266.44273027),\n",
              "          (1, 5, 1, -2.40832003e-05,  118.44199222),\n",
              "          (1, 5, 2,  1.37545041e-05,  166.15641416),\n",
              "          (1, 5, 3, -1.03823001e-05,  233.09261732),\n",
              "          (1, 5, 4,  8.43196201e-05,  326.99410688),\n",
              "          (1, 5, 5, -4.33115455e-05,  458.72386334),\n",
              "          (1, 5, 6,  5.72401636e-05,  643.52102491),\n",
              "          (1, 5, 7, -6.92326163e-05,  902.76382502),\n",
              "          (1, 5, 8,  2.18107057e-06, 1266.44273027),\n",
              "          (2, 2, 1,  1.76827403e-05,  118.44199222),\n",
              "          (2, 2, 2,  8.82119314e-06,  166.15641416),\n",
              "          (2, 2, 3,  3.92315285e-05,  233.09261732),\n",
              "          (2, 2, 4,  4.63113654e-05,  326.99410688),\n",
              "          (2, 2, 5,  2.67625986e-05,  458.72386334),\n",
              "          (2, 2, 6,  1.16519043e-04,  643.52102491),\n",
              "          (2, 2, 7,  8.25576630e-05,  902.76382502),\n",
              "          (2, 2, 8,  2.29114267e-04, 1266.44273027),\n",
              "          (2, 3, 1,  1.02157074e-05,  118.44199222),\n",
              "          (2, 3, 2,  7.89842292e-06,  166.15641416),\n",
              "          (2, 3, 3,  3.42492678e-05,  233.09261732),\n",
              "          (2, 3, 4,  4.63916225e-05,  326.99410688),\n",
              "          (2, 3, 5,  5.58480455e-05,  458.72386334),\n",
              "          (2, 3, 6,  9.26062157e-05,  643.52102491),\n",
              "          (2, 3, 7,  1.24977563e-04,  902.76382502),\n",
              "          (2, 3, 8,  1.09770264e-04, 1266.44273027),\n",
              "          (2, 4, 1,  1.25000682e-05,  118.44199222),\n",
              "          (2, 4, 2,  1.31169205e-05,  166.15641416),\n",
              "          (2, 4, 3,  1.67158505e-05,  233.09261732),\n",
              "          (2, 4, 4,  6.29347369e-05,  326.99410688),\n",
              "          (2, 4, 5,  7.83054604e-05,  458.72386334),\n",
              "          (2, 4, 6,  1.00165729e-04,  643.52102491),\n",
              "          (2, 4, 7,  2.98863626e-05,  902.76382502),\n",
              "          (2, 4, 8,  8.98075675e-05, 1266.44273027),\n",
              "          (2, 5, 1,  7.97001486e-06,  118.44199222),\n",
              "          (2, 5, 2,  1.13734899e-05,  166.15641416),\n",
              "          (2, 5, 3,  3.80239578e-05,  233.09261732),\n",
              "          (2, 5, 4,  1.36658229e-05,  326.99410688),\n",
              "          (2, 5, 5,  7.12534061e-05,  458.72386334),\n",
              "          (2, 5, 6,  8.91743325e-05,  643.52102491),\n",
              "          (2, 5, 7,  6.93666727e-05,  902.76382502),\n",
              "          (2, 5, 8,  1.29602219e-05, 1266.44273027),\n",
              "          (3, 3, 1,  1.00227557e-05,  118.44199222),\n",
              "          (3, 3, 2,  1.48683065e-05,  166.15641416),\n",
              "          (3, 3, 3,  1.45054302e-05,  233.09261732),\n",
              "          (3, 3, 4,  5.47442280e-05,  326.99410688),\n",
              "          (3, 3, 5,  3.92179358e-05,  458.72386334),\n",
              "          (3, 3, 6,  7.16134600e-05,  643.52102491),\n",
              "          (3, 3, 7,  1.48487635e-04,  902.76382502),\n",
              "          (3, 3, 8,  5.62355783e-05, 1266.44273027),\n",
              "          (3, 4, 1,  1.45934132e-05,  118.44199222),\n",
              "          (3, 4, 2,  2.45414050e-05,  166.15641416),\n",
              "          (3, 4, 3,  4.36206602e-05,  233.09261732),\n",
              "          (3, 4, 4,  6.25811956e-05,  326.99410688),\n",
              "          (3, 4, 5,  8.43463009e-05,  458.72386334),\n",
              "          (3, 4, 6,  3.80677366e-05,  643.52102491),\n",
              "          (3, 4, 7,  9.50781697e-05,  902.76382502),\n",
              "          (3, 4, 8,  1.84123128e-04, 1266.44273027),\n",
              "          (3, 5, 1,  1.62344788e-05,  118.44199222),\n",
              "          (3, 5, 2,  4.87982112e-05,  166.15641416),\n",
              "          (3, 5, 3,  3.97685731e-05,  233.09261732),\n",
              "          (3, 5, 4,  6.15071565e-05,  326.99410688),\n",
              "          (3, 5, 5,  8.65680354e-05,  458.72386334),\n",
              "          (3, 5, 6,  5.99722610e-05,  643.52102491),\n",
              "          (3, 5, 7,  1.96194422e-04,  902.76382502),\n",
              "          (3, 5, 8,  8.34463418e-05, 1266.44273027),\n",
              "          (4, 4, 1,  5.12408023e-05,  118.44199222),\n",
              "          (4, 4, 2,  3.72214159e-05,  166.15641416),\n",
              "          (4, 4, 3,  4.55337199e-05,  233.09261732),\n",
              "          (4, 4, 4,  1.07540954e-04,  326.99410688),\n",
              "          (4, 4, 5,  8.78422068e-05,  458.72386334),\n",
              "          (4, 4, 6,  1.52676714e-04,  643.52102491),\n",
              "          (4, 4, 7,  1.11100689e-04,  902.76382502),\n",
              "          (4, 4, 8,  1.30312545e-04, 1266.44273027),\n",
              "          (4, 5, 1,  4.66420065e-05,  118.44199222),\n",
              "          (4, 5, 2,  6.58308605e-05,  166.15641416),\n",
              "          (4, 5, 3,  7.16903220e-05,  233.09261732),\n",
              "          (4, 5, 4,  1.14484622e-04,  326.99410688),\n",
              "          (4, 5, 5,  8.56519190e-05,  458.72386334),\n",
              "          (4, 5, 6,  1.29057078e-04,  643.52102491),\n",
              "          (4, 5, 7,  1.99033904e-04,  902.76382502),\n",
              "          (4, 5, 8,  2.44341637e-04, 1266.44273027),\n",
              "          (5, 5, 1,  6.48045408e-05,  118.44199222),\n",
              "          (5, 5, 2,  1.17159203e-04,  166.15641416),\n",
              "          (5, 5, 3,  9.90526680e-05,  233.09261732),\n",
              "          (5, 5, 4,  1.77145551e-04,  326.99410688),\n",
              "          (5, 5, 5,  1.48896310e-04,  458.72386334),\n",
              "          (5, 5, 6,  1.72300861e-04,  643.52102491),\n",
              "          (5, 5, 7,  3.07603371e-04,  902.76382502),\n",
              "          (5, 5, 8,  4.40663091e-04, 1266.44273027)],\n",
              "         dtype=(numpy.record, [('BIN1', '>i8'), ('BIN2', '>i8'), ('ANGBIN', '>i8'), ('VALUE', '>f8'), ('ANG', '>f8')]))"
            ]
          },
          "metadata": {},
          "execution_count": 45
        }
      ]
    },
    {
      "cell_type": "code",
      "metadata": {
        "id": "F5HttlpOo5fp"
      },
      "source": [
        ""
      ],
      "execution_count": null,
      "outputs": []
    }
  ]
}