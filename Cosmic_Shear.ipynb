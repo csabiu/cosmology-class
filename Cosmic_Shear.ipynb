{
  "nbformat": 4,
  "nbformat_minor": 0,
  "metadata": {
    "colab": {
      "name": "Cosmic_Shear.ipynb",
      "provenance": [],
      "collapsed_sections": [],
      "authorship_tag": "ABX9TyNkrlD0CRaGKterOT5L3rdz",
      "include_colab_link": true
    },
    "kernelspec": {
      "name": "python3",
      "display_name": "Python 3"
    },
    "language_info": {
      "name": "python"
    }
  },
  "cells": [
    {
      "cell_type": "markdown",
      "metadata": {
        "id": "view-in-github",
        "colab_type": "text"
      },
      "source": [
        "<a href=\"https://colab.research.google.com/github/csabiu/cosmology-class/blob/main/Cosmic_Shear.ipynb\" target=\"_parent\"><img src=\"https://colab.research.google.com/assets/colab-badge.svg\" alt=\"Open In Colab\"/></a>"
      ]
    },
    {
      "cell_type": "markdown",
      "metadata": {
        "id": "gqb3AcCTw3pT"
      },
      "source": [
        "### Download CAMB"
      ]
    },
    {
      "cell_type": "code",
      "metadata": {
        "id": "Z4DnTjXBLQ9Y",
        "colab": {
          "base_uri": "https://localhost:8080/"
        },
        "outputId": "a6c38fc9-4fab-4db4-df6b-74114c616422"
      },
      "source": [
        "!pip install camb"
      ],
      "execution_count": 1,
      "outputs": [
        {
          "output_type": "stream",
          "name": "stdout",
          "text": [
            "Collecting camb\n",
            "  Downloading camb-1.3.2.tar.gz (1.6 MB)\n",
            "\u001b[?25l\r\u001b[K     |▏                               | 10 kB 22.5 MB/s eta 0:00:01\r\u001b[K     |▍                               | 20 kB 29.0 MB/s eta 0:00:01\r\u001b[K     |▋                               | 30 kB 16.3 MB/s eta 0:00:01\r\u001b[K     |▉                               | 40 kB 11.9 MB/s eta 0:00:01\r\u001b[K     |█                               | 51 kB 5.3 MB/s eta 0:00:01\r\u001b[K     |█▏                              | 61 kB 5.5 MB/s eta 0:00:01\r\u001b[K     |█▍                              | 71 kB 5.3 MB/s eta 0:00:01\r\u001b[K     |█▋                              | 81 kB 5.4 MB/s eta 0:00:01\r\u001b[K     |█▉                              | 92 kB 5.7 MB/s eta 0:00:01\r\u001b[K     |██                              | 102 kB 5.1 MB/s eta 0:00:01\r\u001b[K     |██▏                             | 112 kB 5.1 MB/s eta 0:00:01\r\u001b[K     |██▍                             | 122 kB 5.1 MB/s eta 0:00:01\r\u001b[K     |██▋                             | 133 kB 5.1 MB/s eta 0:00:01\r\u001b[K     |██▉                             | 143 kB 5.1 MB/s eta 0:00:01\r\u001b[K     |███                             | 153 kB 5.1 MB/s eta 0:00:01\r\u001b[K     |███▏                            | 163 kB 5.1 MB/s eta 0:00:01\r\u001b[K     |███▍                            | 174 kB 5.1 MB/s eta 0:00:01\r\u001b[K     |███▋                            | 184 kB 5.1 MB/s eta 0:00:01\r\u001b[K     |███▉                            | 194 kB 5.1 MB/s eta 0:00:01\r\u001b[K     |████                            | 204 kB 5.1 MB/s eta 0:00:01\r\u001b[K     |████▎                           | 215 kB 5.1 MB/s eta 0:00:01\r\u001b[K     |████▍                           | 225 kB 5.1 MB/s eta 0:00:01\r\u001b[K     |████▋                           | 235 kB 5.1 MB/s eta 0:00:01\r\u001b[K     |████▉                           | 245 kB 5.1 MB/s eta 0:00:01\r\u001b[K     |█████                           | 256 kB 5.1 MB/s eta 0:00:01\r\u001b[K     |█████▎                          | 266 kB 5.1 MB/s eta 0:00:01\r\u001b[K     |█████▍                          | 276 kB 5.1 MB/s eta 0:00:01\r\u001b[K     |█████▋                          | 286 kB 5.1 MB/s eta 0:00:01\r\u001b[K     |█████▉                          | 296 kB 5.1 MB/s eta 0:00:01\r\u001b[K     |██████                          | 307 kB 5.1 MB/s eta 0:00:01\r\u001b[K     |██████▎                         | 317 kB 5.1 MB/s eta 0:00:01\r\u001b[K     |██████▍                         | 327 kB 5.1 MB/s eta 0:00:01\r\u001b[K     |██████▋                         | 337 kB 5.1 MB/s eta 0:00:01\r\u001b[K     |██████▉                         | 348 kB 5.1 MB/s eta 0:00:01\r\u001b[K     |███████                         | 358 kB 5.1 MB/s eta 0:00:01\r\u001b[K     |███████▎                        | 368 kB 5.1 MB/s eta 0:00:01\r\u001b[K     |███████▍                        | 378 kB 5.1 MB/s eta 0:00:01\r\u001b[K     |███████▋                        | 389 kB 5.1 MB/s eta 0:00:01\r\u001b[K     |███████▉                        | 399 kB 5.1 MB/s eta 0:00:01\r\u001b[K     |████████                        | 409 kB 5.1 MB/s eta 0:00:01\r\u001b[K     |████████▎                       | 419 kB 5.1 MB/s eta 0:00:01\r\u001b[K     |████████▌                       | 430 kB 5.1 MB/s eta 0:00:01\r\u001b[K     |████████▋                       | 440 kB 5.1 MB/s eta 0:00:01\r\u001b[K     |████████▉                       | 450 kB 5.1 MB/s eta 0:00:01\r\u001b[K     |█████████                       | 460 kB 5.1 MB/s eta 0:00:01\r\u001b[K     |█████████▎                      | 471 kB 5.1 MB/s eta 0:00:01\r\u001b[K     |█████████▌                      | 481 kB 5.1 MB/s eta 0:00:01\r\u001b[K     |█████████▋                      | 491 kB 5.1 MB/s eta 0:00:01\r\u001b[K     |█████████▉                      | 501 kB 5.1 MB/s eta 0:00:01\r\u001b[K     |██████████                      | 512 kB 5.1 MB/s eta 0:00:01\r\u001b[K     |██████████▎                     | 522 kB 5.1 MB/s eta 0:00:01\r\u001b[K     |██████████▌                     | 532 kB 5.1 MB/s eta 0:00:01\r\u001b[K     |██████████▋                     | 542 kB 5.1 MB/s eta 0:00:01\r\u001b[K     |██████████▉                     | 552 kB 5.1 MB/s eta 0:00:01\r\u001b[K     |███████████                     | 563 kB 5.1 MB/s eta 0:00:01\r\u001b[K     |███████████▎                    | 573 kB 5.1 MB/s eta 0:00:01\r\u001b[K     |███████████▌                    | 583 kB 5.1 MB/s eta 0:00:01\r\u001b[K     |███████████▊                    | 593 kB 5.1 MB/s eta 0:00:01\r\u001b[K     |███████████▉                    | 604 kB 5.1 MB/s eta 0:00:01\r\u001b[K     |████████████                    | 614 kB 5.1 MB/s eta 0:00:01\r\u001b[K     |████████████▎                   | 624 kB 5.1 MB/s eta 0:00:01\r\u001b[K     |████████████▌                   | 634 kB 5.1 MB/s eta 0:00:01\r\u001b[K     |████████████▊                   | 645 kB 5.1 MB/s eta 0:00:01\r\u001b[K     |████████████▉                   | 655 kB 5.1 MB/s eta 0:00:01\r\u001b[K     |█████████████                   | 665 kB 5.1 MB/s eta 0:00:01\r\u001b[K     |█████████████▎                  | 675 kB 5.1 MB/s eta 0:00:01\r\u001b[K     |█████████████▌                  | 686 kB 5.1 MB/s eta 0:00:01\r\u001b[K     |█████████████▊                  | 696 kB 5.1 MB/s eta 0:00:01\r\u001b[K     |█████████████▉                  | 706 kB 5.1 MB/s eta 0:00:01\r\u001b[K     |██████████████                  | 716 kB 5.1 MB/s eta 0:00:01\r\u001b[K     |██████████████▎                 | 727 kB 5.1 MB/s eta 0:00:01\r\u001b[K     |██████████████▌                 | 737 kB 5.1 MB/s eta 0:00:01\r\u001b[K     |██████████████▊                 | 747 kB 5.1 MB/s eta 0:00:01\r\u001b[K     |██████████████▉                 | 757 kB 5.1 MB/s eta 0:00:01\r\u001b[K     |███████████████                 | 768 kB 5.1 MB/s eta 0:00:01\r\u001b[K     |███████████████▎                | 778 kB 5.1 MB/s eta 0:00:01\r\u001b[K     |███████████████▌                | 788 kB 5.1 MB/s eta 0:00:01\r\u001b[K     |███████████████▊                | 798 kB 5.1 MB/s eta 0:00:01\r\u001b[K     |████████████████                | 808 kB 5.1 MB/s eta 0:00:01\r\u001b[K     |████████████████                | 819 kB 5.1 MB/s eta 0:00:01\r\u001b[K     |████████████████▎               | 829 kB 5.1 MB/s eta 0:00:01\r\u001b[K     |████████████████▌               | 839 kB 5.1 MB/s eta 0:00:01\r\u001b[K     |████████████████▊               | 849 kB 5.1 MB/s eta 0:00:01\r\u001b[K     |█████████████████               | 860 kB 5.1 MB/s eta 0:00:01\r\u001b[K     |█████████████████               | 870 kB 5.1 MB/s eta 0:00:01\r\u001b[K     |█████████████████▎              | 880 kB 5.1 MB/s eta 0:00:01\r\u001b[K     |█████████████████▌              | 890 kB 5.1 MB/s eta 0:00:01\r\u001b[K     |█████████████████▊              | 901 kB 5.1 MB/s eta 0:00:01\r\u001b[K     |██████████████████              | 911 kB 5.1 MB/s eta 0:00:01\r\u001b[K     |██████████████████              | 921 kB 5.1 MB/s eta 0:00:01\r\u001b[K     |██████████████████▎             | 931 kB 5.1 MB/s eta 0:00:01\r\u001b[K     |██████████████████▌             | 942 kB 5.1 MB/s eta 0:00:01\r\u001b[K     |██████████████████▊             | 952 kB 5.1 MB/s eta 0:00:01\r\u001b[K     |███████████████████             | 962 kB 5.1 MB/s eta 0:00:01\r\u001b[K     |███████████████████             | 972 kB 5.1 MB/s eta 0:00:01\r\u001b[K     |███████████████████▎            | 983 kB 5.1 MB/s eta 0:00:01\r\u001b[K     |███████████████████▌            | 993 kB 5.1 MB/s eta 0:00:01\r\u001b[K     |███████████████████▊            | 1.0 MB 5.1 MB/s eta 0:00:01\r\u001b[K     |████████████████████            | 1.0 MB 5.1 MB/s eta 0:00:01\r\u001b[K     |████████████████████▏           | 1.0 MB 5.1 MB/s eta 0:00:01\r\u001b[K     |████████████████████▎           | 1.0 MB 5.1 MB/s eta 0:00:01\r\u001b[K     |████████████████████▌           | 1.0 MB 5.1 MB/s eta 0:00:01\r\u001b[K     |████████████████████▊           | 1.1 MB 5.1 MB/s eta 0:00:01\r\u001b[K     |█████████████████████           | 1.1 MB 5.1 MB/s eta 0:00:01\r\u001b[K     |█████████████████████▏          | 1.1 MB 5.1 MB/s eta 0:00:01\r\u001b[K     |█████████████████████▎          | 1.1 MB 5.1 MB/s eta 0:00:01\r\u001b[K     |█████████████████████▌          | 1.1 MB 5.1 MB/s eta 0:00:01\r\u001b[K     |█████████████████████▊          | 1.1 MB 5.1 MB/s eta 0:00:01\r\u001b[K     |██████████████████████          | 1.1 MB 5.1 MB/s eta 0:00:01\r\u001b[K     |██████████████████████▏         | 1.1 MB 5.1 MB/s eta 0:00:01\r\u001b[K     |██████████████████████▎         | 1.1 MB 5.1 MB/s eta 0:00:01\r\u001b[K     |██████████████████████▌         | 1.1 MB 5.1 MB/s eta 0:00:01\r\u001b[K     |██████████████████████▊         | 1.2 MB 5.1 MB/s eta 0:00:01\r\u001b[K     |███████████████████████         | 1.2 MB 5.1 MB/s eta 0:00:01\r\u001b[K     |███████████████████████▏        | 1.2 MB 5.1 MB/s eta 0:00:01\r\u001b[K     |███████████████████████▍        | 1.2 MB 5.1 MB/s eta 0:00:01\r\u001b[K     |███████████████████████▌        | 1.2 MB 5.1 MB/s eta 0:00:01\r\u001b[K     |███████████████████████▊        | 1.2 MB 5.1 MB/s eta 0:00:01\r\u001b[K     |████████████████████████        | 1.2 MB 5.1 MB/s eta 0:00:01\r\u001b[K     |████████████████████████▏       | 1.2 MB 5.1 MB/s eta 0:00:01\r\u001b[K     |████████████████████████▍       | 1.2 MB 5.1 MB/s eta 0:00:01\r\u001b[K     |████████████████████████▌       | 1.2 MB 5.1 MB/s eta 0:00:01\r\u001b[K     |████████████████████████▊       | 1.3 MB 5.1 MB/s eta 0:00:01\r\u001b[K     |█████████████████████████       | 1.3 MB 5.1 MB/s eta 0:00:01\r\u001b[K     |█████████████████████████▏      | 1.3 MB 5.1 MB/s eta 0:00:01\r\u001b[K     |█████████████████████████▍      | 1.3 MB 5.1 MB/s eta 0:00:01\r\u001b[K     |█████████████████████████▌      | 1.3 MB 5.1 MB/s eta 0:00:01\r\u001b[K     |█████████████████████████▊      | 1.3 MB 5.1 MB/s eta 0:00:01\r\u001b[K     |██████████████████████████      | 1.3 MB 5.1 MB/s eta 0:00:01\r\u001b[K     |██████████████████████████▏     | 1.3 MB 5.1 MB/s eta 0:00:01\r\u001b[K     |██████████████████████████▍     | 1.3 MB 5.1 MB/s eta 0:00:01\r\u001b[K     |██████████████████████████▌     | 1.4 MB 5.1 MB/s eta 0:00:01\r\u001b[K     |██████████████████████████▊     | 1.4 MB 5.1 MB/s eta 0:00:01\r\u001b[K     |███████████████████████████     | 1.4 MB 5.1 MB/s eta 0:00:01\r\u001b[K     |███████████████████████████▏    | 1.4 MB 5.1 MB/s eta 0:00:01\r\u001b[K     |███████████████████████████▍    | 1.4 MB 5.1 MB/s eta 0:00:01\r\u001b[K     |███████████████████████████▋    | 1.4 MB 5.1 MB/s eta 0:00:01\r\u001b[K     |███████████████████████████▊    | 1.4 MB 5.1 MB/s eta 0:00:01\r\u001b[K     |████████████████████████████    | 1.4 MB 5.1 MB/s eta 0:00:01\r\u001b[K     |████████████████████████████▏   | 1.4 MB 5.1 MB/s eta 0:00:01\r\u001b[K     |████████████████████████████▍   | 1.4 MB 5.1 MB/s eta 0:00:01\r\u001b[K     |████████████████████████████▋   | 1.5 MB 5.1 MB/s eta 0:00:01\r\u001b[K     |████████████████████████████▊   | 1.5 MB 5.1 MB/s eta 0:00:01\r\u001b[K     |█████████████████████████████   | 1.5 MB 5.1 MB/s eta 0:00:01\r\u001b[K     |█████████████████████████████▏  | 1.5 MB 5.1 MB/s eta 0:00:01\r\u001b[K     |█████████████████████████████▍  | 1.5 MB 5.1 MB/s eta 0:00:01\r\u001b[K     |█████████████████████████████▋  | 1.5 MB 5.1 MB/s eta 0:00:01\r\u001b[K     |█████████████████████████████▊  | 1.5 MB 5.1 MB/s eta 0:00:01\r\u001b[K     |██████████████████████████████  | 1.5 MB 5.1 MB/s eta 0:00:01\r\u001b[K     |██████████████████████████████▏ | 1.5 MB 5.1 MB/s eta 0:00:01\r\u001b[K     |██████████████████████████████▍ | 1.5 MB 5.1 MB/s eta 0:00:01\r\u001b[K     |██████████████████████████████▋ | 1.6 MB 5.1 MB/s eta 0:00:01\r\u001b[K     |██████████████████████████████▊ | 1.6 MB 5.1 MB/s eta 0:00:01\r\u001b[K     |███████████████████████████████ | 1.6 MB 5.1 MB/s eta 0:00:01\r\u001b[K     |███████████████████████████████▏| 1.6 MB 5.1 MB/s eta 0:00:01\r\u001b[K     |███████████████████████████████▍| 1.6 MB 5.1 MB/s eta 0:00:01\r\u001b[K     |███████████████████████████████▋| 1.6 MB 5.1 MB/s eta 0:00:01\r\u001b[K     |███████████████████████████████▉| 1.6 MB 5.1 MB/s eta 0:00:01\r\u001b[K     |████████████████████████████████| 1.6 MB 5.1 MB/s eta 0:00:01\r\u001b[K     |████████████████████████████████| 1.6 MB 5.1 MB/s \n",
            "\u001b[?25hRequirement already satisfied: scipy>=1.0 in /usr/local/lib/python3.7/dist-packages (from camb) (1.4.1)\n",
            "Requirement already satisfied: sympy>=1.0 in /usr/local/lib/python3.7/dist-packages (from camb) (1.7.1)\n",
            "Requirement already satisfied: numpy>=1.13.3 in /usr/local/lib/python3.7/dist-packages (from scipy>=1.0->camb) (1.19.5)\n",
            "Requirement already satisfied: mpmath>=0.19 in /usr/local/lib/python3.7/dist-packages (from sympy>=1.0->camb) (1.2.1)\n",
            "Building wheels for collected packages: camb\n",
            "  Building wheel for camb (setup.py) ... \u001b[?25l\u001b[?25hdone\n",
            "  Created wheel for camb: filename=camb-1.3.2-py3-none-any.whl size=1009274 sha256=53ca6ae41f62db6b4047dc380c2abff8cb749e50ad2b0d6493687a5ebf353c61\n",
            "  Stored in directory: /root/.cache/pip/wheels/d3/c1/34/87632240be4218d112bc9b47c18e92ef81bfb6bc1e1f0f0a72\n",
            "Successfully built camb\n",
            "Installing collected packages: camb\n",
            "Successfully installed camb-1.3.2\n"
          ]
        }
      ]
    },
    {
      "cell_type": "markdown",
      "metadata": {
        "id": "FdMnQJKNw7Ct"
      },
      "source": [
        "### Import Libraries"
      ]
    },
    {
      "cell_type": "code",
      "metadata": {
        "id": "nAVN3Xd1K-GP"
      },
      "source": [
        "import numpy as np\n",
        "import camb\n",
        "from scipy.integrate import simps\n",
        "from astropy.cosmology import FlatLambdaCDM\n",
        "from astropy import constants as const\n",
        "from scipy.interpolate import interp1d\n",
        "import astropy.units as u\n",
        "import astropy.io.fits as fits\n",
        "import matplotlib.pyplot as plt\n"
      ],
      "execution_count": 2,
      "outputs": []
    },
    {
      "cell_type": "markdown",
      "metadata": {
        "id": "CxFO3qmLw-hL"
      },
      "source": [
        "### Set the cosmological model"
      ]
    },
    {
      "cell_type": "code",
      "metadata": {
        "id": "7VKOfEKGpp_i"
      },
      "source": [
        "h=0.7\n",
        "omega_b=0.04\n",
        "omega_m=0.25\n",
        "A_baryon1=2.0\n",
        "mnu=1.0\n",
        "sigma_8=0.8\n",
        "n_s=0.96\n",
        "\n",
        "cosmo = FlatLambdaCDM(H0 = h*100., Om0 = omega_m)\n",
        "pars = camb.CAMBparams()\n",
        "\n",
        "#pars.set_cosmology(H0=h*100., ombh2=omega_b*h**2, omch2=(omega_m -omega_b)*h**2 - mnu/93.14, mnu=mnu,omk=0., tau=0.066)\n",
        "pars.set_cosmology(H0=h*100., ombh2=omega_b*h**2, omch2=(omega_m -omega_b)*h**2 - mnu/93.14, mnu=mnu,omk=0., tau=0.066)\n",
        "\n",
        "pars.InitPower.set_params(As=2e-09,ns=n_s, r=0)\n",
        "pars.set_matter_power()\n",
        "results = camb.get_results(pars)\n",
        "sigma8=results.get_sigma8()\n",
        "desired_sigma8=sigma_8\n",
        "\n",
        "pars.InitPower.set_params(As=2e-09*desired_sigma8**2/sigma8**2,ns=n_s, r=0)\n",
        "pars.NonLinearModel.set_params(halofit_version='mead')\n",
        "pars.set_matter_power()\n",
        "\n",
        "PK1 = camb.get_matter_power_interpolator(pars, k_hunit =False, hubble_units = False, kmax =100)\n"
      ],
      "execution_count": 3,
      "outputs": []
    },
    {
      "cell_type": "markdown",
      "metadata": {
        "id": "bMa-8GkQxEn0"
      },
      "source": [
        "### Plot the matter power spectrum at fixed redshift"
      ]
    },
    {
      "cell_type": "code",
      "metadata": {
        "colab": {
          "base_uri": "https://localhost:8080/",
          "height": 305
        },
        "id": "Xa7RbQ8ks7yC",
        "outputId": "ef57dd9c-00be-413b-ca38-b3b2ef2b07cb"
      },
      "source": [
        "kval=10**np.arange(-4,1,0.1)\n",
        "plt.loglog(kval,PK1.P(1,kval),'-')\n",
        "plt.xlabel('k (1/Mpc)')\n",
        "plt.ylabel('P(k)')"
      ],
      "execution_count": 4,
      "outputs": [
        {
          "output_type": "execute_result",
          "data": {
            "text/plain": [
              "Text(0, 0.5, 'P(k)')"
            ]
          },
          "metadata": {},
          "execution_count": 4
        },
        {
          "output_type": "display_data",
          "data": {
            "image/png": "[encoded data removed]",
            "text/plain": [
              "<Figure size 432x288 with 1 Axes>"
            ]
          },
          "metadata": {
            "needs_background": "light"
          }
        }
      ]
    },
    {
      "cell_type": "markdown",
      "metadata": {
        "id": "Jw_EMVkQxOAM"
      },
      "source": [
        "### create the lensing power spectrum"
      ]
    },
    {
      "cell_type": "code",
      "metadata": {
        "id": "2nkMGUOdLKFw"
      },
      "source": [
        "def dz_dx_func(z, cosmo):\n",
        "    dx_dz = const.c.to('km/s')/cosmo.H0/np.sqrt(cosmo.Om0*(1.+z)**3 + cosmo.Ok0*(1.+z)**2 + (1-cosmo.Om0 - cosmo.Ok0) )\n",
        "    dz_dx = 1./dx_dz\n",
        "    return dz_dx.value\n",
        "\n",
        "def g(z,p_z,cosmo):\n",
        "    x= cosmo.comoving_distance(z).value\n",
        "    \n",
        "    dz_dx = dz_dx_func(z,cosmo)\n",
        "    \n",
        "    p_x = p_z*dz_dx\n",
        "    p_x = p_x/simps(p_x, x)\n",
        "    \n",
        "    gi = np.zeros(len(x))\n",
        "    \n",
        "    for i in range(1,len(x)):\n",
        "        \n",
        "        x_prime = x[i:]\n",
        "        z_prime = z[i:]\n",
        "        \n",
        "        gi[i] = simps(p_x[i:]*cosmo._comoving_transverse_distance_z1z2(z[i],z_prime)/cosmo.comoving_transverse_distance(z_prime),x_prime)\n",
        "        \n",
        "    return x, gi\n",
        "\n",
        "def g_func(x_input,x_min, x_max, g_interp):\n",
        "    \n",
        "    if x_input < x_min :\n",
        "        return g_interp(x_min)\n",
        "    elif x_input > x_max:\n",
        "        return g_interp(x_max)\n",
        "    else:\n",
        "        return g_interp(x_input)\n",
        "\n",
        "vg_func = np.vectorize(g_func)\n",
        "\n",
        "\n",
        "def p_func(x_input,x_min, x_max, p_interp):\n",
        "    \n",
        "    if x_input < x_min :\n",
        "        return 0.\n",
        "    elif x_input > x_max:\n",
        "        return 0.\n",
        "    else:\n",
        "        return p_interp(x_input)\n",
        "\n",
        "vp_func = np.vectorize(p_func)\n",
        "\n",
        "#def Dz(z,cosmo):\n",
        "#    Omega_m,Omega_lambda = cosmo.Om(z), cosmo.Ode(z)\n",
        "#    return 1./(1+z)*5./2.*Omega_m*( Omega_m**(4./7.) - Omega_lambda + ( 1. + Omega_m/2.)*(1. +Omega_lambda/70.))**(-1)\n",
        "\n",
        "def P_mm_ell(ell, z_1,p_z1,z_2, p_z2, cosmo, PK):\n",
        "\n",
        "    A_factor = cosmo.scale_factor(z_1)\n",
        "    fk = (cosmo.angular_diameter_distance(z_1).value*(1.+z_1)) # (1+z) factor: converted to comoving scale.\n",
        "    \n",
        "    factor = 9./4.*cosmo.Om0**2*(cosmo.H0/const.c.to('km/s'))**4\n",
        "    \n",
        "    x_1, g_1 = g(z_1,p_z1,cosmo)\n",
        "    x_2, g_2 = g(z_2,p_z2,cosmo)\n",
        "\n",
        "    g_interp = interp1d(x_2, g_2, kind = 'cubic')\n",
        "    g2_at_1 = vg_func(x_1 ,min(x_2), max(x_2), g_interp)\n",
        "\n",
        "    vec = g_1*g2_at_1/A_factor**2\n",
        "    \n",
        "    PS = np.zeros((len(x_1), len(ell)))\n",
        "\n",
        "    for i in range(len(x_1)):\n",
        "        PS[i] = PK.P(z_1[i],((ell+1./2.)/fk[i]))\n",
        "    \n",
        "    PS_ell = np.zeros(len(ell))\n",
        "    for i in range(len(ell)):\n",
        "        \n",
        "        PS_ell[i] = simps(PS[:,i]*vec,x_1)\n",
        "    \n",
        "    return (factor*PS_ell).value\n"
      ],
      "execution_count": 5,
      "outputs": []
    },
    {
      "cell_type": "markdown",
      "metadata": {
        "id": "Wt9hDipJ-X4e"
      },
      "source": [
        "## We need a distribution of source galaxies. Lets download the KiDs data!"
      ]
    },
    {
      "cell_type": "code",
      "metadata": {
        "colab": {
          "base_uri": "https://localhost:8080/"
        },
        "id": "cV_YU3g4jUny",
        "outputId": "870f2090-d44c-424a-cdc5-4e3a6fe51635"
      },
      "source": [
        "!wget http://kids.strw.leidenuniv.nl/DR4/data_files/KiDS1000_cosmic_shear_data_release.tgz"
      ],
      "execution_count": 8,
      "outputs": [
        {
          "output_type": "stream",
          "name": "stdout",
          "text": [
            "--2021-11-15 23:41:26--  http://kids.strw.leidenuniv.nl/DR4/data_files/KiDS1000_cosmic_shear_data_release.tgz\n",
            "Resolving kids.strw.leidenuniv.nl (kids.strw.leidenuniv.nl)... 132.229.214.179\n",
            "Connecting to kids.strw.leidenuniv.nl (kids.strw.leidenuniv.nl)|132.229.214.179|:80... connected.\n",
            "HTTP request sent, awaiting response... 200 OK\n",
            "Length: 17283861 (16M) [application/x-gzip]\n",
            "Saving to: ‘KiDS1000_cosmic_shear_data_release.tgz’\n",
            "\n",
            "KiDS1000_cosmic_she 100%[===================>]  16.48M  14.4MB/s    in 1.1s    \n",
            "\n",
            "2021-11-15 23:41:29 (14.4 MB/s) - ‘KiDS1000_cosmic_shear_data_release.tgz’ saved [17283861/17283861]\n",
            "\n"
          ]
        }
      ]
    },
    {
      "cell_type": "code",
      "metadata": {
        "colab": {
          "base_uri": "https://localhost:8080/"
        },
        "id": "11IaLEq_jWBm",
        "outputId": "fda80eb4-60da-470c-ef59-9020cdb255a9"
      },
      "source": [
        "!tar -zxvf KiDS1000_cosmic_shear_data_release.tgz"
      ],
      "execution_count": 9,
      "outputs": [
        {
          "output_type": "stream",
          "name": "stdout",
          "text": [
            "KiDS1000_cosmis_shear_data_release/\n",
            "KiDS1000_cosmis_shear_data_release/._.DS_Store\n",
            "KiDS1000_cosmis_shear_data_release/.DS_Store\n",
            "KiDS1000_cosmis_shear_data_release/Read.me\n",
            "KiDS1000_cosmis_shear_data_release/chains_and_config_files/\n",
            "KiDS1000_cosmis_shear_data_release/Plotting/\n",
            "KiDS1000_cosmis_shear_data_release/data_fits/\n",
            "KiDS1000_cosmis_shear_data_release/data_fits/cosebis_KIDS1000_BlindC_with_m_bias_V1.0.0A_ugriZYJHKs_photoz_SG_mask_LF_svn_309c_2Dbins_v2_goldclasses_Flag_SOM_Fid.fits\n",
            "KiDS1000_cosmis_shear_data_release/data_fits/xipm_KIDS1000_BlindC_with_m_bias_V1.0.0A_ugriZYJHKs_photoz_SG_mask_LF_svn_309c_2Dbins_v2_goldclasses_Flag_SOM_Fid.fits\n",
            "KiDS1000_cosmis_shear_data_release/data_fits/read_data_files.py\n",
            "KiDS1000_cosmis_shear_data_release/data_fits/bp_KIDS1000_BlindC_with_m_bias_V1.0.0A_ugriZYJHKs_photoz_SG_mask_LF_svn_309c_2Dbins_v2_goldclasses_Flag_SOM_Fid.fits\n",
            "KiDS1000_cosmis_shear_data_release/Plotting/._plot_chains.py\n",
            "KiDS1000_cosmis_shear_data_release/Plotting/plot_chains.py\n",
            "KiDS1000_cosmis_shear_data_release/Plotting/._.DS_Store\n",
            "KiDS1000_cosmis_shear_data_release/Plotting/.DS_Store\n",
            "KiDS1000_cosmis_shear_data_release/Plotting/._chain_functions.py\n",
            "KiDS1000_cosmis_shear_data_release/Plotting/chain_functions.py\n",
            "KiDS1000_cosmis_shear_data_release/chains_and_config_files/main_chains_iterative_covariance/\n",
            "KiDS1000_cosmis_shear_data_release/chains_and_config_files/main_chains_iterative_covariance/cosebis/\n",
            "KiDS1000_cosmis_shear_data_release/chains_and_config_files/main_chains_iterative_covariance/bp/\n",
            "KiDS1000_cosmis_shear_data_release/chains_and_config_files/main_chains_iterative_covariance/xipm/\n",
            "KiDS1000_cosmis_shear_data_release/chains_and_config_files/main_chains_iterative_covariance/xipm/config/\n",
            "KiDS1000_cosmis_shear_data_release/chains_and_config_files/main_chains_iterative_covariance/xipm/chain/\n",
            "KiDS1000_cosmis_shear_data_release/chains_and_config_files/main_chains_iterative_covariance/xipm/chain/output_multinest_C.txt\n",
            "KiDS1000_cosmis_shear_data_release/chains_and_config_files/main_chains_iterative_covariance/xipm/chain/maxpost_multinest_start_C.txt\n",
            "KiDS1000_cosmis_shear_data_release/chains_and_config_files/main_chains_iterative_covariance/xipm/config/pipeline.ini\n",
            "KiDS1000_cosmis_shear_data_release/chains_and_config_files/main_chains_iterative_covariance/xipm/config/priors.ini\n",
            "KiDS1000_cosmis_shear_data_release/chains_and_config_files/main_chains_iterative_covariance/xipm/config/values.ini\n",
            "KiDS1000_cosmis_shear_data_release/chains_and_config_files/main_chains_iterative_covariance/bp/config/\n",
            "KiDS1000_cosmis_shear_data_release/chains_and_config_files/main_chains_iterative_covariance/bp/chain/\n",
            "KiDS1000_cosmis_shear_data_release/chains_and_config_files/main_chains_iterative_covariance/bp/chain/output_multinest_C.txt\n",
            "KiDS1000_cosmis_shear_data_release/chains_and_config_files/main_chains_iterative_covariance/bp/chain/maxpost_multinest_start_C.txt\n",
            "KiDS1000_cosmis_shear_data_release/chains_and_config_files/main_chains_iterative_covariance/bp/config/pipeline.ini\n",
            "KiDS1000_cosmis_shear_data_release/chains_and_config_files/main_chains_iterative_covariance/bp/config/priors.ini\n",
            "KiDS1000_cosmis_shear_data_release/chains_and_config_files/main_chains_iterative_covariance/bp/config/values.ini\n",
            "KiDS1000_cosmis_shear_data_release/chains_and_config_files/main_chains_iterative_covariance/cosebis/config/\n",
            "KiDS1000_cosmis_shear_data_release/chains_and_config_files/main_chains_iterative_covariance/cosebis/chain/\n",
            "KiDS1000_cosmis_shear_data_release/chains_and_config_files/main_chains_iterative_covariance/cosebis/chain/output_multinest_C.txt\n",
            "KiDS1000_cosmis_shear_data_release/chains_and_config_files/main_chains_iterative_covariance/cosebis/chain/maxpost_multinest_start_C.txt\n",
            "KiDS1000_cosmis_shear_data_release/chains_and_config_files/main_chains_iterative_covariance/cosebis/config/pipeline.ini\n",
            "KiDS1000_cosmis_shear_data_release/chains_and_config_files/main_chains_iterative_covariance/cosebis/config/priors.ini\n",
            "KiDS1000_cosmis_shear_data_release/chains_and_config_files/main_chains_iterative_covariance/cosebis/config/values.ini\n"
          ]
        }
      ]
    },
    {
      "cell_type": "code",
      "metadata": {
        "colab": {
          "base_uri": "https://localhost:8080/"
        },
        "id": "DQpZmKBKjbk8",
        "outputId": "09dae982-aad2-48a2-edc4-a52a5e6a1ec2"
      },
      "source": [
        "stats_name ='bp'\n",
        "dir='KiDS1000_cosmis_shear_data_release/data_fits/'\n",
        "cat_version = 'V1.0.0A_ugriZYJHKs_photoz_SG_mask_LF_svn_309c_2Dbins_v2_goldclasses_Flag_SOM_Fid'\n",
        "filename = dir+stats_name+'_KIDS1000_BlindC_with_m_bias_'+cat_version+'.fits'\n",
        "F=fits.open(filename)\n",
        "\n",
        "# Gives the names of all the extension\n",
        "F.info()"
      ],
      "execution_count": 10,
      "outputs": [
        {
          "output_type": "stream",
          "name": "stdout",
          "text": [
            "Filename: KiDS1000_cosmis_shear_data_release/data_fits/bp_KIDS1000_BlindC_with_m_bias_V1.0.0A_ugriZYJHKs_photoz_SG_mask_LF_svn_309c_2Dbins_v2_goldclasses_Flag_SOM_Fid.fits\n",
            "No.    Name      Ver    Type      Cards   Dimensions   Format\n",
            "  0  PRIMARY       1 PrimaryHDU       4   ()      \n",
            "  1  COVMAT        1 ImageHDU        13   (200, 200)   float64   \n",
            "  2  PneE          1 BinTableHDU     29   80R x 5C   [K, K, K, D, D]   \n",
            "  3  PeeE          1 BinTableHDU     29   120R x 5C   [K, K, K, D, D]   \n",
            "  4  NZ_LENS       1 BinTableHDU     22   79R x 5C   [D, D, D, D, D]   \n",
            "  5  NZ_SOURCE     1 BinTableHDU     36   119R x 8C   [D, D, D, D, D, D, D, D]   \n"
          ]
        }
      ]
    },
    {
      "cell_type": "code",
      "metadata": {
        "colab": {
          "base_uri": "https://localhost:8080/",
          "height": 297
        },
        "id": "pwXHP9nqk3h_",
        "outputId": "0fd2165f-22b0-4836-9288-e9e87ad975a9"
      },
      "source": [
        "a=F[\"nz_source\"]\n",
        "z=a.data['Z_MID']\n",
        "nz=a.data['BIN5'] # there are 1-5bins\n",
        "plt.plot(z,nz,'-')\n",
        "plt.xlabel('z')\n",
        "plt.ylabel('N(z)')\n",
        "plt.xlim((0,2.5))"
      ],
      "execution_count": 11,
      "outputs": [
        {
          "output_type": "execute_result",
          "data": {
            "text/plain": [
              "(0.0, 2.5)"
            ]
          },
          "metadata": {},
          "execution_count": 11
        },
        {
          "output_type": "display_data",
          "data": {
            "image/png": "[encoded data removed]",
            "text/plain": [
              "<Figure size 432x288 with 1 Axes>"
            ]
          },
          "metadata": {
            "needs_background": "light"
          }
        }
      ]
    },
    {
      "cell_type": "code",
      "metadata": {
        "id": "Y_pGaY0DkOIU"
      },
      "source": [
        "# Covariance matrix\n",
        "ext=F[\"COVMAT\"]\n",
        "cov=ext.data\n",
        "err=np.sqrt(np.diag(cov[112:120,112:120])) #last 8 values are the PS of the bin5\n",
        "\n",
        "# cosmic shear data vector\n",
        "pl_data=F['PeeE'].data['Value']\n",
        "ell_data=F['PeeE'].data['Ang']\n"
      ],
      "execution_count": 14,
      "outputs": []
    },
    {
      "cell_type": "markdown",
      "metadata": {
        "id": "7dN3fQ3P_oJp"
      },
      "source": [
        "### Now plot data and model together"
      ]
    },
    {
      "cell_type": "code",
      "metadata": {
        "id": "yVRvfVFANq0x",
        "colab": {
          "base_uri": "https://localhost:8080/",
          "height": 309
        },
        "outputId": "36cab0dc-690e-4c33-a77b-e348175c5f90"
      },
      "source": [
        "ell=np.asarray((100.,200.))\n",
        "ell=10**np.arange(1,4,0.1)\n",
        "\n",
        "\n",
        "pl=P_mm_ell(ell, z,nz,z, nz, cosmo, PK1)\n",
        "plt.loglog(ell,pl*ell**2)\n",
        "plt.plot(ell_data[-8:],pl_data[-8:],'r.')\n",
        "plt.errorbar(ell_data[-8:],pl_data[-8:],yerr=err,linestyle='None')\n",
        "plt.ylabel(r'$P(\\ell)*\\ell^2$')\n",
        "plt.xlabel(r'$\\ell$')\n",
        "plt.xlim((50,3000))\n",
        "plt.ylim((1E-5,1E-3))\n"
      ],
      "execution_count": 17,
      "outputs": [
        {
          "output_type": "execute_result",
          "data": {
            "text/plain": [
              "(1e-05, 0.001)"
            ]
          },
          "metadata": {},
          "execution_count": 17
        },
        {
          "output_type": "display_data",
          "data": {
            "image/png": "[encoded data removed]",
            "text/plain": [
              "<Figure size 432x288 with 1 Axes>"
            ]
          },
          "metadata": {
            "needs_background": "light"
          }
        }
      ]
    },
    {
      "cell_type": "code",
      "metadata": {
        "id": "1jARtxuwklop"
      },
      "source": [
        ""
      ],
      "execution_count": 15,
      "outputs": []
    },
    {
      "cell_type": "code",
      "metadata": {
        "id": "gJNl3iShkm_U"
      },
      "source": [
        "\n"
      ],
      "execution_count": 15,
      "outputs": []
    },
    {
      "cell_type": "code",
      "metadata": {
        "id": "qFXa0o1Rnrn7"
      },
      "source": [
        ""
      ],
      "execution_count": 15,
      "outputs": []
    },
    {
      "cell_type": "code",
      "metadata": {
        "id": "F5HttlpOo5fp"
      },
      "source": [
        ""
      ],
      "execution_count": null,
      "outputs": []
    }
  ]
}