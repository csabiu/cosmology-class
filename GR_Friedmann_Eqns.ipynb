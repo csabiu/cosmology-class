{
  "nbformat": 4,
  "nbformat_minor": 0,
  "metadata": {
    "kernelspec": {
      "display_name": "Python 3 (ipykernel)",
      "language": "python",
      "name": "python3"
    },
    "language_info": {
      "codemirror_mode": {
        "name": "ipython",
        "version": 3
      },
      "file_extension": ".py",
      "mimetype": "text/x-python",
      "name": "python",
      "nbconvert_exporter": "python",
      "pygments_lexer": "ipython3",
      "version": "3.8.10"
    },
    "colab": {
      "name": "GR Friedmann_Eqns.ipynb",
      "provenance": [],
      "collapsed_sections": [],
      "include_colab_link": true
    }
  },
  "cells": [
    {
      "cell_type": "markdown",
      "metadata": {
        "id": "view-in-github",
        "colab_type": "text"
      },
      "source": [
        "<a href=\"https://colab.research.google.com/github/csabiu/cosmology-class/blob/main/GR_Friedmann_Eqns.ipynb\" target=\"_parent\"><img src=\"https://colab.research.google.com/assets/colab-badge.svg\" alt=\"Open In Colab\"/></a>"
      ]
    },
    {
      "cell_type": "code",
      "metadata": {
        "id": "f8sAl3_L3Dr3",
        "colab": {
          "base_uri": "https://localhost:8080/"
        },
        "outputId": "ef2e06ba-3dad-4f40-e651-f54972aadef7"
      },
      "source": [
        "! pip install einsteinpy"
      ],
      "execution_count": null,
      "outputs": [
        {
          "output_type": "stream",
          "name": "stdout",
          "text": [
            "Collecting einsteinpy\n",
            "  Downloading einsteinpy-0.4.0-py3-none-any.whl (88 kB)\n",
            "\u001b[?25l\r\u001b[K     |███▊                            | 10 kB 26.4 MB/s eta 0:00:01\r\u001b[K     |███████▍                        | 20 kB 35.1 MB/s eta 0:00:01\r\u001b[K     |███████████▏                    | 30 kB 25.7 MB/s eta 0:00:01\r\u001b[K     |██████████████▉                 | 40 kB 18.0 MB/s eta 0:00:01\r\u001b[K     |██████████████████▋             | 51 kB 13.4 MB/s eta 0:00:01\r\u001b[K     |██████████████████████▎         | 61 kB 11.0 MB/s eta 0:00:01\r\u001b[K     |██████████████████████████      | 71 kB 12.1 MB/s eta 0:00:01\r\u001b[K     |█████████████████████████████▊  | 81 kB 13.5 MB/s eta 0:00:01\r\u001b[K     |████████████████████████████████| 88 kB 4.7 MB/s \n",
            "\u001b[?25hRequirement already satisfied: scipy>=1.0 in /usr/local/lib/python3.7/dist-packages (from einsteinpy) (1.4.1)\n",
            "Requirement already satisfied: matplotlib in /usr/local/lib/python3.7/dist-packages (from einsteinpy) (3.2.2)\n",
            "Requirement already satisfied: plotly>=4.0 in /usr/local/lib/python3.7/dist-packages (from einsteinpy) (4.4.1)\n",
            "Requirement already satisfied: sympy>=1.1 in /usr/local/lib/python3.7/dist-packages (from einsteinpy) (1.7.1)\n",
            "Requirement already satisfied: astropy in /usr/local/lib/python3.7/dist-packages (from einsteinpy) (4.3.1)\n",
            "Requirement already satisfied: numba!=0.49.0,>=0.46 in /usr/local/lib/python3.7/dist-packages (from einsteinpy) (0.51.2)\n",
            "Requirement already satisfied: numpy in /usr/local/lib/python3.7/dist-packages (from einsteinpy) (1.19.5)\n",
            "Requirement already satisfied: setuptools in /usr/local/lib/python3.7/dist-packages (from numba!=0.49.0,>=0.46->einsteinpy) (57.4.0)\n",
            "Requirement already satisfied: llvmlite<0.35,>=0.34.0.dev0 in /usr/local/lib/python3.7/dist-packages (from numba!=0.49.0,>=0.46->einsteinpy) (0.34.0)\n",
            "Requirement already satisfied: six in /usr/local/lib/python3.7/dist-packages (from plotly>=4.0->einsteinpy) (1.15.0)\n",
            "Requirement already satisfied: retrying>=1.3.3 in /usr/local/lib/python3.7/dist-packages (from plotly>=4.0->einsteinpy) (1.3.3)\n",
            "Requirement already satisfied: mpmath>=0.19 in /usr/local/lib/python3.7/dist-packages (from sympy>=1.1->einsteinpy) (1.2.1)\n",
            "Requirement already satisfied: pyerfa>=1.7.3 in /usr/local/lib/python3.7/dist-packages (from astropy->einsteinpy) (2.0.0)\n",
            "Requirement already satisfied: importlib-metadata in /usr/local/lib/python3.7/dist-packages (from astropy->einsteinpy) (4.6.4)\n",
            "Requirement already satisfied: typing-extensions>=3.6.4 in /usr/local/lib/python3.7/dist-packages (from importlib-metadata->astropy->einsteinpy) (3.7.4.3)\n",
            "Requirement already satisfied: zipp>=0.5 in /usr/local/lib/python3.7/dist-packages (from importlib-metadata->astropy->einsteinpy) (3.5.0)\n",
            "Requirement already satisfied: pyparsing!=2.0.4,!=2.1.2,!=2.1.6,>=2.0.1 in /usr/local/lib/python3.7/dist-packages (from matplotlib->einsteinpy) (2.4.7)\n",
            "Requirement already satisfied: kiwisolver>=1.0.1 in /usr/local/lib/python3.7/dist-packages (from matplotlib->einsteinpy) (1.3.1)\n",
            "Requirement already satisfied: cycler>=0.10 in /usr/local/lib/python3.7/dist-packages (from matplotlib->einsteinpy) (0.10.0)\n",
            "Requirement already satisfied: python-dateutil>=2.1 in /usr/local/lib/python3.7/dist-packages (from matplotlib->einsteinpy) (2.8.2)\n",
            "Installing collected packages: einsteinpy\n",
            "Successfully installed einsteinpy-0.4.0\n"
          ]
        }
      ]
    },
    {
      "cell_type": "code",
      "metadata": {
        "id": "pBVwXk5n3CyY"
      },
      "source": [
        "import sympy\n",
        "from sympy import Symbol, Function\n",
        "from einsteinpy.symbolic import *\n",
        "from sympy import symbols, sin, cos, sinh, pi, gamma,oo\n",
        "sympy.init_printing()  # enables the best printing available in an environment\n",
        "\n",
        "import warnings\n",
        "warnings.filterwarnings('ignore')"
      ],
      "execution_count": null,
      "outputs": []
    },
    {
      "cell_type": "code",
      "metadata": {
        "id": "F5hqTPJX3Cya"
      },
      "source": [
        "# from einsteinpy.symbolic.predefined import Schwarzschild\n",
        "from einsteinpy.utils import scalar_factor, scalar_factor_derivative"
      ],
      "execution_count": null,
      "outputs": []
    },
    {
      "cell_type": "code",
      "metadata": {
        "id": "6QDsET9B3Cyb",
        "colab": {
          "base_uri": "https://localhost:8080/",
          "height": 104
        },
        "outputId": "889e740b-23a2-4477-c44c-60944294df9d"
      },
      "source": [
        "syms = sympy.symbols('t r theta phi')\n",
        "t = Symbol('t')\n",
        "a = Function('a')(t)\n",
        "r = Symbol('r')\n",
        "th = Symbol('theta')\n",
        "ph = Symbol('pi')\n",
        "k = Symbol('k')\n",
        "c = Symbol('c')\n",
        "\n",
        "H = Function('H')(t)\n",
        "\n",
        "\n",
        "# define the metric for 3d spherical coordinates\n",
        "metric = [[0 for i in range(4)] for i in range(4)]\n",
        "metric[0][0] = c**2\n",
        "metric[1][1] = -a**2 /(1-k*r**2)\n",
        "metric[2][2] = -a**2*r**2\n",
        "metric[3][3] = -a**2*r**2*sympy.sin(th)**2\n",
        "# creating metric object\n",
        "m_obj = MetricTensor(metric, syms[:4])\n",
        "m_obj.tensor()"
      ],
      "execution_count": null,
      "outputs": [
        {
          "output_type": "execute_result",
          "data": {
            "text/latex": "$\\displaystyle \\left[\\begin{matrix}c^{2} & 0 & 0 & 0\\\\0 & - \\frac{a^{2}{\\left(t \\right)}}{- k r^{2} + 1} & 0 & 0\\\\0 & 0 & - r^{2} a^{2}{\\left(t \\right)} & 0\\\\0 & 0 & 0 & - r^{2} a^{2}{\\left(t \\right)} \\sin^{2}{\\left(\\theta \\right)}\\end{matrix}\\right]$",
            "text/plain": [
              "⎡ 2                                          ⎤\n",
              "⎢c       0           0              0        ⎥\n",
              "⎢                                            ⎥\n",
              "⎢       2                                    ⎥\n",
              "⎢     -a (t)                                 ⎥\n",
              "⎢0   ──────────      0              0        ⎥\n",
              "⎢         2                                  ⎥\n",
              "⎢    - k⋅r  + 1                              ⎥\n",
              "⎢                                            ⎥\n",
              "⎢                  2  2                      ⎥\n",
              "⎢0       0       -r ⋅a (t)          0        ⎥\n",
              "⎢                                            ⎥\n",
              "⎢                             2  2       2   ⎥\n",
              "⎣0       0           0      -r ⋅a (t)⋅sin (θ)⎦"
            ]
          },
          "metadata": {},
          "execution_count": 5
        }
      ]
    },
    {
      "cell_type": "code",
      "metadata": {
        "id": "EZE8woEf3Cyd",
        "colab": {
          "base_uri": "https://localhost:8080/",
          "height": 121
        },
        "outputId": "3a7ef331-9c5c-41a7-fb5d-326e5df0c88d"
      },
      "source": [
        "# calculate the crhistoffel symbols\n",
        "\n",
        "ch = ChristoffelSymbols.from_metric(m_obj)\n",
        "# ch.tensor()\n",
        "ch.tensor()"
      ],
      "execution_count": null,
      "outputs": [
        {
          "output_type": "execute_result",
          "data": {
            "text/latex": "$\\displaystyle \\left[\\begin{matrix}\\left[\\begin{matrix}0 & 0 & 0 & 0\\\\0 & \\frac{a{\\left(t \\right)} \\frac{d}{d t} a{\\left(t \\right)}}{c^{2} \\left(- k r^{2} + 1\\right)} & 0 & 0\\\\0 & 0 & \\frac{r^{2} a{\\left(t \\right)} \\frac{d}{d t} a{\\left(t \\right)}}{c^{2}} & 0\\\\0 & 0 & 0 & \\frac{r^{2} a{\\left(t \\right)} \\sin^{2}{\\left(\\theta \\right)} \\frac{d}{d t} a{\\left(t \\right)}}{c^{2}}\\end{matrix}\\right] & \\left[\\begin{matrix}0 & - \\frac{\\left(k r^{2} - 1\\right) \\frac{d}{d t} a{\\left(t \\right)}}{\\left(- k r^{2} + 1\\right) a{\\left(t \\right)}} & 0 & 0\\\\- \\frac{\\left(k r^{2} - 1\\right) \\frac{d}{d t} a{\\left(t \\right)}}{\\left(- k r^{2} + 1\\right) a{\\left(t \\right)}} & - \\frac{k r \\left(k r^{2} - 1\\right)}{\\left(- k r^{2} + 1\\right)^{2}} & 0 & 0\\\\0 & 0 & r \\left(k r^{2} - 1\\right) & 0\\\\0 & 0 & 0 & r \\left(k r^{2} - 1\\right) \\sin^{2}{\\left(\\theta \\right)}\\end{matrix}\\right] & \\left[\\begin{matrix}0 & 0 & \\frac{\\frac{d}{d t} a{\\left(t \\right)}}{a{\\left(t \\right)}} & 0\\\\0 & 0 & \\frac{1}{r} & 0\\\\\\frac{\\frac{d}{d t} a{\\left(t \\right)}}{a{\\left(t \\right)}} & \\frac{1}{r} & 0 & 0\\\\0 & 0 & 0 & - \\sin{\\left(\\theta \\right)} \\cos{\\left(\\theta \\right)}\\end{matrix}\\right] & \\left[\\begin{matrix}0 & 0 & 0 & \\frac{\\frac{d}{d t} a{\\left(t \\right)}}{a{\\left(t \\right)}}\\\\0 & 0 & 0 & \\frac{1}{r}\\\\0 & 0 & 0 & \\frac{\\cos{\\left(\\theta \\right)}}{\\sin{\\left(\\theta \\right)}}\\\\\\frac{\\frac{d}{d t} a{\\left(t \\right)}}{a{\\left(t \\right)}} & \\frac{1}{r} & \\frac{\\cos{\\left(\\theta \\right)}}{\\sin{\\left(\\theta \\right)}} & 0\\end{matrix}\\right]\\end{matrix}\\right]$",
            "text/plain": [
              "⎡⎡0         0                0                     0            ⎤             \n",
              "⎢⎢                                                              ⎥  ⎡          \n",
              "⎢⎢         d                                                    ⎥  ⎢          \n",
              "⎢⎢    a(t)⋅──(a(t))                                             ⎥  ⎢          \n",
              "⎢⎢         dt                                                   ⎥  ⎢          \n",
              "⎢⎢0  ───────────────         0                     0            ⎥  ⎢          \n",
              "⎢⎢    2 ⎛     2    ⎞                                            ⎥  ⎢          \n",
              "⎢⎢   c ⋅⎝- k⋅r  + 1⎠                                            ⎥  ⎢          \n",
              "⎢⎢                                                              ⎥  ⎢ ⎛   2    \n",
              "⎢⎢                     2      d                                 ⎥  ⎢-⎝k⋅r  - 1\n",
              "⎢⎢                    r ⋅a(t)⋅──(a(t))                          ⎥  ⎢          \n",
              "⎢⎢                            dt                                ⎥  ⎢──────────\n",
              "⎢⎢0         0         ────────────────             0            ⎥  ⎢  ⎛     2 \n",
              "⎢⎢                            2                                 ⎥  ⎢  ⎝- k⋅r  \n",
              "⎢⎢                           c                                  ⎥  ⎢          \n",
              "⎢⎢                                                              ⎥  ⎢          \n",
              "⎢⎢                                       2         2    d       ⎥  ⎢          \n",
              "⎢⎢                                      r ⋅a(t)⋅sin (θ)⋅──(a(t))⎥  ⎢          \n",
              "⎢⎢                                                      dt      ⎥  ⎢          \n",
              "⎢⎢0         0                0          ────────────────────────⎥  ⎢          \n",
              "⎢⎢                                                  2           ⎥  ⎣          \n",
              "⎣⎣                                                 c            ⎦             \n",
              "\n",
              "                                                                              \n",
              "              ⎛   2    ⎞ d                                            ⎤       \n",
              "             -⎝k⋅r  - 1⎠⋅──(a(t))                                     ⎥       \n",
              "                         dt                                           ⎥  ⎡    \n",
              "0            ─────────────────────       0                 0          ⎥  ⎢    \n",
              "               ⎛     2    ⎞                                           ⎥  ⎢    \n",
              "               ⎝- k⋅r  + 1⎠⋅a(t)                                      ⎥  ⎢   0\n",
              "                                                                      ⎥  ⎢    \n",
              "⎞ d                                                                   ⎥  ⎢    \n",
              "⎠⋅──(a(t))          ⎛   2    ⎞                                        ⎥  ⎢    \n",
              "  dt           -k⋅r⋅⎝k⋅r  - 1⎠                                        ⎥  ⎢   0\n",
              "───────────    ────────────────          0                 0          ⎥  ⎢    \n",
              "   ⎞                        2                                         ⎥  ⎢    \n",
              "+ 1⎠⋅a(t)       ⎛     2    ⎞                                          ⎥  ⎢d   \n",
              "                ⎝- k⋅r  + 1⎠                                          ⎥  ⎢──(a\n",
              "                                                                      ⎥  ⎢dt  \n",
              "                                      ⎛   2    ⎞                      ⎥  ⎢────\n",
              "0                      0            r⋅⎝k⋅r  - 1⎠           0          ⎥  ⎢  a(\n",
              "                                                                      ⎥  ⎢    \n",
              "                                                    ⎛   2    ⎞    2   ⎥  ⎣   0\n",
              "0                      0                 0        r⋅⎝k⋅r  - 1⎠⋅sin (θ)⎦       \n",
              "                                                                              \n",
              "\n",
              "                                                                   ⎤\n",
              "                                                                   ⎥\n",
              "                                    ⎡                     d       ⎤⎥\n",
              "         d                       ⎤  ⎢                     ──(a(t))⎥⎥\n",
              "         ──(a(t))                ⎥  ⎢                     dt      ⎥⎥\n",
              "         dt                      ⎥  ⎢   0      0    0     ────────⎥⎥\n",
              "      0  ────────        0       ⎥  ⎢                       a(t)  ⎥⎥\n",
              "           a(t)                  ⎥  ⎢                             ⎥⎥\n",
              "                                 ⎥  ⎢                        1    ⎥⎥\n",
              "            1                    ⎥  ⎢   0      0    0        ─    ⎥⎥\n",
              "      0     ─            0       ⎥  ⎢                        r    ⎥⎥\n",
              "            r                    ⎥  ⎢                             ⎥⎥\n",
              "                                 ⎥  ⎢                      cos(θ) ⎥⎥\n",
              "                                 ⎥  ⎢   0      0    0      ────── ⎥⎥\n",
              "(t))                             ⎥  ⎢                      sin(θ) ⎥⎥\n",
              "      1                          ⎥  ⎢                             ⎥⎥\n",
              "────  ─     0            0       ⎥  ⎢d                            ⎥⎥\n",
              "t)    r                          ⎥  ⎢──(a(t))                     ⎥⎥\n",
              "                                 ⎥  ⎢dt        1  cos(θ)          ⎥⎥\n",
              "      0     0      -sin(θ)⋅cos(θ)⎦  ⎢────────  ─  ──────     0    ⎥⎥\n",
              "                                    ⎣  a(t)    r  sin(θ)          ⎦⎥\n",
              "                                                                   ⎦"
            ]
          },
          "metadata": {},
          "execution_count": 6
        }
      ]
    },
    {
      "cell_type": "code",
      "metadata": {
        "colab": {
          "base_uri": "https://localhost:8080/",
          "height": 120
        },
        "id": "0bl6Y2CKOTPh",
        "outputId": "15331b80-2562-4029-fe30-14440518dd8a"
      },
      "source": [
        "# This expression is quite ugly. Let's simplify it with the dot notation: \n",
        "a_d = Function('\\dot{a}')(t)\n",
        "a_dd = Function('\\ddot{a}')(t)\n",
        "alias = {a.diff(t):a_d, a.diff(t).diff(t):a_dd,a.diff(t)/a:H } # and higher derivatives etc..\n",
        "\n",
        "ch.tensor().subs(alias)\n",
        "# better,no?"
      ],
      "execution_count": null,
      "outputs": [
        {
          "output_type": "execute_result",
          "data": {
            "text/latex": "$\\displaystyle \\left[\\begin{matrix}\\left[\\begin{matrix}0 & 0 & 0 & 0\\\\0 & \\frac{\\dot{a}{\\left(t \\right)} a{\\left(t \\right)}}{c^{2} \\left(- k r^{2} + 1\\right)} & 0 & 0\\\\0 & 0 & \\frac{r^{2} \\dot{a}{\\left(t \\right)} a{\\left(t \\right)}}{c^{2}} & 0\\\\0 & 0 & 0 & \\frac{r^{2} \\dot{a}{\\left(t \\right)} a{\\left(t \\right)} \\sin^{2}{\\left(\\theta \\right)}}{c^{2}}\\end{matrix}\\right] & \\left[\\begin{matrix}0 & - \\frac{\\left(k r^{2} - 1\\right) H{\\left(t \\right)}}{- k r^{2} + 1} & 0 & 0\\\\- \\frac{\\left(k r^{2} - 1\\right) H{\\left(t \\right)}}{- k r^{2} + 1} & - \\frac{k r \\left(k r^{2} - 1\\right)}{\\left(- k r^{2} + 1\\right)^{2}} & 0 & 0\\\\0 & 0 & r \\left(k r^{2} - 1\\right) & 0\\\\0 & 0 & 0 & r \\left(k r^{2} - 1\\right) \\sin^{2}{\\left(\\theta \\right)}\\end{matrix}\\right] & \\left[\\begin{matrix}0 & 0 & H{\\left(t \\right)} & 0\\\\0 & 0 & \\frac{1}{r} & 0\\\\H{\\left(t \\right)} & \\frac{1}{r} & 0 & 0\\\\0 & 0 & 0 & - \\sin{\\left(\\theta \\right)} \\cos{\\left(\\theta \\right)}\\end{matrix}\\right] & \\left[\\begin{matrix}0 & 0 & 0 & H{\\left(t \\right)}\\\\0 & 0 & 0 & \\frac{1}{r}\\\\0 & 0 & 0 & \\frac{\\cos{\\left(\\theta \\right)}}{\\sin{\\left(\\theta \\right)}}\\\\H{\\left(t \\right)} & \\frac{1}{r} & \\frac{\\cos{\\left(\\theta \\right)}}{\\sin{\\left(\\theta \\right)}} & 0\\end{matrix}\\right]\\end{matrix}\\right]$",
            "text/plain": [
              "⎡⎡0         0                 0                       0             ⎤  ⎡      \n",
              "⎢⎢                                                                  ⎥  ⎢      \n",
              "⎢⎢   \\dot{a}(t)⋅a(t)                                                ⎥  ⎢      \n",
              "⎢⎢0  ───────────────          0                       0             ⎥  ⎢      \n",
              "⎢⎢    2 ⎛     2    ⎞                                                ⎥  ⎢      \n",
              "⎢⎢   c ⋅⎝- k⋅r  + 1⎠                                                ⎥  ⎢      \n",
              "⎢⎢                                                                  ⎥  ⎢ ⎛   2\n",
              "⎢⎢                     2                                            ⎥  ⎢-⎝k⋅r \n",
              "⎢⎢                    r ⋅\\dot{a}(t)⋅a(t)                            ⎥  ⎢──────\n",
              "⎢⎢0         0         ──────────────────              0             ⎥  ⎢      \n",
              "⎢⎢                             2                                    ⎥  ⎢    - \n",
              "⎢⎢                            c                                     ⎥  ⎢      \n",
              "⎢⎢                                                                  ⎥  ⎢      \n",
              "⎢⎢                                         2                    2   ⎥  ⎢      \n",
              "⎢⎢                                        r ⋅\\dot{a}(t)⋅a(t)⋅sin (θ)⎥  ⎢      \n",
              "⎢⎢0         0                 0           ──────────────────────────⎥  ⎢      \n",
              "⎢⎢                                                     2            ⎥  ⎢      \n",
              "⎣⎣                                                    c             ⎦  ⎣      \n",
              "\n",
              "              ⎛   2    ⎞                                          ⎤           \n",
              "             -⎝k⋅r  - 1⎠⋅H(t)                                     ⎥           \n",
              "  0          ─────────────────       0                 0          ⎥           \n",
              "                      2                                           ⎥           \n",
              "                 - k⋅r  + 1                                       ⎥  ⎡ 0    0 \n",
              "                                                                  ⎥  ⎢        \n",
              "    ⎞             ⎛   2    ⎞                                      ⎥  ⎢        \n",
              " - 1⎠⋅H(t)   -k⋅r⋅⎝k⋅r  - 1⎠                                      ⎥  ⎢ 0    0 \n",
              "───────────  ────────────────        0                 0          ⎥  ⎢        \n",
              "   2                      2                                       ⎥  ⎢        \n",
              "k⋅r  + 1      ⎛     2    ⎞                                        ⎥  ⎢      1 \n",
              "              ⎝- k⋅r  + 1⎠                                        ⎥  ⎢H(t)  ─ \n",
              "                                                                  ⎥  ⎢      r \n",
              "                                  ⎛   2    ⎞                      ⎥  ⎢        \n",
              "  0                  0          r⋅⎝k⋅r  - 1⎠           0          ⎥  ⎣ 0    0 \n",
              "                                                                  ⎥           \n",
              "                                                ⎛   2    ⎞    2   ⎥           \n",
              "  0                  0               0        r⋅⎝k⋅r  - 1⎠⋅sin (θ)⎦           \n",
              "\n",
              "                                                 ⎤\n",
              "                                                 ⎥\n",
              "                                                 ⎥\n",
              "                        ⎡ 0    0    0      H(t) ⎤⎥\n",
              " H(t)        0       ⎤  ⎢                       ⎥⎥\n",
              "                     ⎥  ⎢                   1   ⎥⎥\n",
              "  1                  ⎥  ⎢ 0    0    0       ─   ⎥⎥\n",
              "  ─          0       ⎥  ⎢                   r   ⎥⎥\n",
              "  r                  ⎥  ⎢                       ⎥⎥\n",
              "                     ⎥  ⎢                 cos(θ)⎥⎥\n",
              "                     ⎥  ⎢ 0    0    0     ──────⎥⎥\n",
              "  0          0       ⎥  ⎢                 sin(θ)⎥⎥\n",
              "                     ⎥  ⎢                       ⎥⎥\n",
              "                     ⎥  ⎢      1  cos(θ)        ⎥⎥\n",
              "  0    -sin(θ)⋅cos(θ)⎦  ⎢H(t)  ─  ──────    0   ⎥⎥\n",
              "                        ⎣      r  sin(θ)        ⎦⎥\n",
              "                                                 ⎥\n",
              "                                                 ⎦"
            ]
          },
          "metadata": {},
          "execution_count": 7
        }
      ]
    },
    {
      "cell_type": "code",
      "metadata": {
        "id": "YISmQKJS3Cyd",
        "colab": {
          "base_uri": "https://localhost:8080/",
          "height": 401
        },
        "outputId": "72013c8c-8672-4291-9783-fac002537a07"
      },
      "source": [
        "# Calculate the Riemann Curvature tensor:\n",
        "\n",
        "rm1 = RiemannCurvatureTensor.from_christoffels(ch)\n",
        "rm1.tensor().subs(alias)\n"
      ],
      "execution_count": null,
      "outputs": [
        {
          "output_type": "execute_result",
          "data": {
            "text/latex": "$\\displaystyle \\left[\\begin{matrix}\\left[\\begin{matrix}0 & 0 & 0 & 0\\\\0 & 0 & 0 & 0\\\\0 & 0 & 0 & 0\\\\0 & 0 & 0 & 0\\end{matrix}\\right] & \\left[\\begin{matrix}0 & - \\frac{\\ddot{a}{\\left(t \\right)} a{\\left(t \\right)}}{c^{2} \\left(k r^{2} - 1\\right)} & 0 & 0\\\\\\frac{\\ddot{a}{\\left(t \\right)} a{\\left(t \\right)}}{c^{2} \\left(k r^{2} - 1\\right)} & 0 & 0 & 0\\\\0 & 0 & 0 & 0\\\\0 & 0 & 0 & 0\\end{matrix}\\right] & \\left[\\begin{matrix}0 & 0 & \\frac{r^{2} \\ddot{a}{\\left(t \\right)} a{\\left(t \\right)}}{c^{2}} & 0\\\\0 & 0 & 0 & 0\\\\- \\frac{r^{2} \\ddot{a}{\\left(t \\right)} a{\\left(t \\right)}}{c^{2}} & 0 & 0 & 0\\\\0 & 0 & 0 & 0\\end{matrix}\\right] & \\left[\\begin{matrix}0 & 0 & 0 & \\frac{r^{2} \\ddot{a}{\\left(t \\right)} a{\\left(t \\right)} \\sin^{2}{\\left(\\theta \\right)}}{c^{2}}\\\\0 & 0 & 0 & 0\\\\0 & 0 & 0 & 0\\\\- \\frac{r^{2} \\ddot{a}{\\left(t \\right)} a{\\left(t \\right)} \\sin^{2}{\\left(\\theta \\right)}}{c^{2}} & 0 & 0 & 0\\end{matrix}\\right]\\\\\\left[\\begin{matrix}0 & \\frac{\\ddot{a}{\\left(t \\right)}}{a{\\left(t \\right)}} & 0 & 0\\\\- \\frac{\\ddot{a}{\\left(t \\right)}}{a{\\left(t \\right)}} & 0 & 0 & 0\\\\0 & 0 & 0 & 0\\\\0 & 0 & 0 & 0\\end{matrix}\\right] & \\left[\\begin{matrix}0 & 0 & 0 & 0\\\\0 & 0 & 0 & 0\\\\0 & 0 & 0 & 0\\\\0 & 0 & 0 & 0\\end{matrix}\\right] & \\left[\\begin{matrix}0 & 0 & 0 & 0\\\\0 & 0 & \\frac{r^{2} \\left(c^{2} k + \\dot{a}^{2}{\\left(t \\right)}\\right)}{c^{2}} & 0\\\\0 & - \\frac{r^{2} \\left(c^{2} k + \\dot{a}^{2}{\\left(t \\right)}\\right)}{c^{2}} & 0 & 0\\\\0 & 0 & 0 & 0\\end{matrix}\\right] & \\left[\\begin{matrix}0 & 0 & 0 & 0\\\\0 & 0 & 0 & \\frac{r^{2} \\left(c^{2} k + \\dot{a}^{2}{\\left(t \\right)}\\right) \\sin^{2}{\\left(\\theta \\right)}}{c^{2}}\\\\0 & 0 & 0 & 0\\\\0 & - \\frac{r^{2} \\left(c^{2} k + \\dot{a}^{2}{\\left(t \\right)}\\right) \\sin^{2}{\\left(\\theta \\right)}}{c^{2}} & 0 & 0\\end{matrix}\\right]\\\\\\left[\\begin{matrix}0 & 0 & \\frac{\\ddot{a}{\\left(t \\right)}}{a{\\left(t \\right)}} & 0\\\\0 & 0 & 0 & 0\\\\- \\frac{\\ddot{a}{\\left(t \\right)}}{a{\\left(t \\right)}} & 0 & 0 & 0\\\\0 & 0 & 0 & 0\\end{matrix}\\right] & \\left[\\begin{matrix}0 & 0 & 0 & 0\\\\0 & 0 & \\frac{c^{2} k + \\dot{a}^{2}{\\left(t \\right)}}{c^{2} \\left(k r^{2} - 1\\right)} & 0\\\\0 & \\frac{- c^{2} k - \\dot{a}^{2}{\\left(t \\right)}}{c^{2} \\left(k r^{2} - 1\\right)} & 0 & 0\\\\0 & 0 & 0 & 0\\end{matrix}\\right] & \\left[\\begin{matrix}0 & 0 & 0 & 0\\\\0 & 0 & 0 & 0\\\\0 & 0 & 0 & 0\\\\0 & 0 & 0 & 0\\end{matrix}\\right] & \\left[\\begin{matrix}0 & 0 & 0 & 0\\\\0 & 0 & 0 & 0\\\\0 & 0 & 0 & \\frac{r^{2} \\left(c^{2} k + \\dot{a}^{2}{\\left(t \\right)}\\right) \\sin^{2}{\\left(\\theta \\right)}}{c^{2}}\\\\0 & 0 & - \\frac{r^{2} \\left(c^{2} k + \\dot{a}^{2}{\\left(t \\right)}\\right) \\sin^{2}{\\left(\\theta \\right)}}{c^{2}} & 0\\end{matrix}\\right]\\\\\\left[\\begin{matrix}0 & 0 & 0 & \\frac{\\ddot{a}{\\left(t \\right)}}{a{\\left(t \\right)}}\\\\0 & 0 & 0 & 0\\\\0 & 0 & 0 & 0\\\\- \\frac{\\ddot{a}{\\left(t \\right)}}{a{\\left(t \\right)}} & 0 & 0 & 0\\end{matrix}\\right] & \\left[\\begin{matrix}0 & 0 & 0 & 0\\\\0 & 0 & 0 & \\frac{c^{2} k + \\dot{a}^{2}{\\left(t \\right)}}{c^{2} \\left(k r^{2} - 1\\right)}\\\\0 & 0 & 0 & 0\\\\0 & \\frac{- c^{2} k - \\dot{a}^{2}{\\left(t \\right)}}{c^{2} \\left(k r^{2} - 1\\right)} & 0 & 0\\end{matrix}\\right] & \\left[\\begin{matrix}0 & 0 & 0 & 0\\\\0 & 0 & 0 & 0\\\\0 & 0 & 0 & - \\frac{r^{2} \\left(c^{2} k + \\dot{a}^{2}{\\left(t \\right)}\\right)}{c^{2}}\\\\0 & 0 & \\frac{r^{2} \\left(c^{2} k + \\dot{a}^{2}{\\left(t \\right)}\\right)}{c^{2}} & 0\\end{matrix}\\right] & \\left[\\begin{matrix}0 & 0 & 0 & 0\\\\0 & 0 & 0 & 0\\\\0 & 0 & 0 & 0\\\\0 & 0 & 0 & 0\\end{matrix}\\right]\\end{matrix}\\right]$",
            "text/plain": [
              "⎡                                                                             \n",
              "⎢                                      ⎡                  -\\ddot{a}(t)⋅a(t)   \n",
              "⎢                                      ⎢       0          ──────────────────  \n",
              "⎢                                      ⎢                     2 ⎛   2    ⎞     \n",
              "⎢           ⎡0  0  0  0⎤               ⎢                    c ⋅⎝k⋅r  - 1⎠     \n",
              "⎢           ⎢          ⎥               ⎢                                      \n",
              "⎢           ⎢0  0  0  0⎥               ⎢\\ddot{a}(t)⋅a(t)                      \n",
              "⎢           ⎢          ⎥               ⎢────────────────          0           \n",
              "⎢           ⎢0  0  0  0⎥               ⎢  2 ⎛   2    ⎞                        \n",
              "⎢           ⎢          ⎥               ⎢ c ⋅⎝k⋅r  - 1⎠                        \n",
              "⎢           ⎣0  0  0  0⎦               ⎢                                      \n",
              "⎢                                      ⎢       0                  0           \n",
              "⎢                                      ⎢                                      \n",
              "⎢                                      ⎣       0                  0           \n",
              "⎢                                                                             \n",
              "⎢                                                                             \n",
              "⎢                                                                             \n",
              "⎢                                                                             \n",
              "⎢⎡               \\ddot{a}(t)      ⎤                                           \n",
              "⎢⎢      0        ───────────  0  0⎥                                           \n",
              "⎢⎢                   a(t)         ⎥                    ⎡0  0  0  0⎤           \n",
              "⎢⎢                                ⎥                    ⎢          ⎥           \n",
              "⎢⎢-\\ddot{a}(t)                    ⎥                    ⎢0  0  0  0⎥           \n",
              "⎢⎢─────────────       0       0  0⎥                    ⎢          ⎥           \n",
              "⎢⎢     a(t)                       ⎥                    ⎢0  0  0  0⎥           \n",
              "⎢⎢                                ⎥                    ⎢          ⎥           \n",
              "⎢⎢      0             0       0  0⎥                    ⎣0  0  0  0⎦           \n",
              "⎢⎢                                ⎥                                           \n",
              "⎢⎣      0             0       0  0⎦                                           \n",
              "⎢                                                                             \n",
              "⎢                                                                             \n",
              "⎢                                                                             \n",
              "⎢                                    ⎡0           0                    0      \n",
              "⎢                                    ⎢                                        \n",
              "⎢⎡                  \\ddot{a}(t)   ⎤  ⎢                          2            2\n",
              "⎢⎢      0        0  ───────────  0⎥  ⎢                         c ⋅k + \\dot{a} \n",
              "⎢⎢                      a(t)      ⎥  ⎢0           0            ───────────────\n",
              "⎢⎢                                ⎥  ⎢                            2 ⎛   2    ⎞\n",
              "⎢⎢      0        0       0       0⎥  ⎢                           c ⋅⎝k⋅r  - 1⎠\n",
              "⎢⎢                                ⎥  ⎢                                        \n",
              "⎢⎢-\\ddot{a}(t)                    ⎥  ⎢      2            2                    \n",
              "⎢⎢─────────────  0       0       0⎥  ⎢   - c ⋅k - \\dot{a} (t)                 \n",
              "⎢⎢     a(t)                       ⎥  ⎢0  ────────────────────          0      \n",
              "⎢⎢                                ⎥  ⎢       2 ⎛   2    ⎞                     \n",
              "⎢⎣      0        0       0       0⎦  ⎢      c ⋅⎝k⋅r  - 1⎠                     \n",
              "⎢                                    ⎢                                        \n",
              "⎢                                    ⎣0           0                    0      \n",
              "⎢                                                                             \n",
              "⎢                                    ⎡0           0            0          0   \n",
              "⎢                                    ⎢                                        \n",
              "⎢⎡                     \\ddot{a}(t)⎤  ⎢                             2          \n",
              "⎢⎢      0        0  0  ───────────⎥  ⎢                            c ⋅k + \\dot{\n",
              "⎢⎢                         a(t)   ⎥  ⎢0           0            0  ────────────\n",
              "⎢⎢                                ⎥  ⎢                               2 ⎛   2  \n",
              "⎢⎢      0        0  0       0     ⎥  ⎢                              c ⋅⎝k⋅r  -\n",
              "⎢⎢                                ⎥  ⎢                                        \n",
              "⎢⎢      0        0  0       0     ⎥  ⎢0           0            0          0   \n",
              "⎢⎢                                ⎥  ⎢                                        \n",
              "⎢⎢-\\ddot{a}(t)                    ⎥  ⎢      2            2                    \n",
              "⎢⎢─────────────  0  0       0     ⎥  ⎢   - c ⋅k - \\dot{a} (t)                 \n",
              "⎢⎣     a(t)                       ⎦  ⎢0  ────────────────────  0          0   \n",
              "⎢                                    ⎢       2 ⎛   2    ⎞                     \n",
              "⎣                                    ⎣      c ⋅⎝k⋅r  - 1⎠                     \n",
              "\n",
              "             ⎡                           2                    ⎤          ⎡    \n",
              "    ⎤        ⎢                          r ⋅\\ddot{a}(t)⋅a(t)   ⎥          ⎢    \n",
              "0  0⎥        ⎢          0            0  ───────────────────  0⎥          ⎢    \n",
              "    ⎥        ⎢                                    2           ⎥          ⎢    \n",
              "    ⎥        ⎢                                   c            ⎥          ⎢    \n",
              "    ⎥        ⎢                                                ⎥          ⎢    \n",
              "    ⎥        ⎢          0            0           0           0⎥          ⎢    \n",
              "0  0⎥        ⎢                                                ⎥          ⎢    \n",
              "    ⎥        ⎢  2                                             ⎥          ⎢    \n",
              "    ⎥        ⎢-r ⋅\\ddot{a}(t)⋅a(t)                            ⎥          ⎢    \n",
              "    ⎥        ⎢─────────────────────  0           0           0⎥          ⎢  2 \n",
              "0  0⎥        ⎢           2                                    ⎥          ⎢-r ⋅\n",
              "    ⎥        ⎢          c                                     ⎥          ⎢────\n",
              "0  0⎦        ⎢                                                ⎥          ⎢    \n",
              "             ⎣          0            0           0           0⎦          ⎣    \n",
              "                                                                              \n",
              "         ⎡0              0                         0             0⎤  ⎡0       \n",
              "         ⎢                                                        ⎥  ⎢        \n",
              "         ⎢                               2 ⎛ 2            2   ⎞   ⎥  ⎢        \n",
              "         ⎢                              r ⋅⎝c ⋅k + \\dot{a} (t)⎠   ⎥  ⎢        \n",
              "         ⎢0              0              ───────────────────────  0⎥  ⎢0       \n",
              "         ⎢                                          2             ⎥  ⎢        \n",
              "         ⎢                                         c              ⎥  ⎢        \n",
              "         ⎢                                                        ⎥  ⎢        \n",
              "         ⎢     2 ⎛ 2            2   ⎞                             ⎥  ⎢0       \n",
              "         ⎢   -r ⋅⎝c ⋅k + \\dot{a} (t)⎠                             ⎥  ⎢        \n",
              "         ⎢0  ─────────────────────────             0             0⎥  ⎢     2 ⎛\n",
              "         ⎢                2                                       ⎥  ⎢   -r ⋅⎝\n",
              "         ⎢               c                                        ⎥  ⎢0  ─────\n",
              "         ⎢                                                        ⎥  ⎢        \n",
              "         ⎣0              0                         0             0⎦  ⎣        \n",
              "                                                                              \n",
              "     0⎤                                                              ⎡0  0    \n",
              "      ⎥                                                              ⎢        \n",
              "      ⎥                                                              ⎢0  0    \n",
              "(t)   ⎥                                                              ⎢        \n",
              "───  0⎥                         ⎡0  0  0  0⎤                         ⎢        \n",
              "      ⎥                         ⎢          ⎥                         ⎢        \n",
              "      ⎥                         ⎢0  0  0  0⎥                         ⎢0  0    \n",
              "      ⎥                         ⎢          ⎥                         ⎢        \n",
              "      ⎥                         ⎢0  0  0  0⎥                         ⎢        \n",
              "      ⎥                         ⎢          ⎥                         ⎢        \n",
              "     0⎥                         ⎣0  0  0  0⎦                         ⎢        \n",
              "      ⎥                                                              ⎢      -r\n",
              "      ⎥                                                              ⎢0  0  ──\n",
              "      ⎥                                                              ⎢        \n",
              "     0⎦                                                              ⎣        \n",
              "                                                                              \n",
              "      ⎤  ⎡0  0             0                         0            ⎤           \n",
              "      ⎥  ⎢                                                        ⎥           \n",
              "  2   ⎥  ⎢0  0             0                         0            ⎥           \n",
              "a} (t)⎥  ⎢                                                        ⎥           \n",
              "──────⎥  ⎢                                 2 ⎛ 2            2   ⎞ ⎥           \n",
              "  ⎞   ⎥  ⎢                               -r ⋅⎝c ⋅k + \\dot{a} (t)⎠ ⎥           \n",
              " 1⎠   ⎥  ⎢0  0             0             ─────────────────────────⎥           \n",
              "      ⎥  ⎢                                            2           ⎥           \n",
              "      ⎥  ⎢                                           c            ⎥           \n",
              "      ⎥  ⎢                                                        ⎥           \n",
              "      ⎥  ⎢       2 ⎛ 2            2   ⎞                           ⎥           \n",
              "      ⎥  ⎢      r ⋅⎝c ⋅k + \\dot{a} (t)⎠                           ⎥           \n",
              "      ⎥  ⎢0  0  ───────────────────────              0            ⎥           \n",
              "      ⎥  ⎢                  2                                     ⎥           \n",
              "      ⎦  ⎣                 c                                      ⎦           \n",
              "\n",
              "                                  2                     2   ⎤    ⎤\n",
              "                                 r ⋅\\ddot{a}(t)⋅a(t)⋅sin (θ)⎥    ⎥\n",
              "          0                0  0  ───────────────────────────⎥    ⎥\n",
              "                                               2            ⎥    ⎥\n",
              "                                              c             ⎥    ⎥\n",
              "                                                            ⎥    ⎥\n",
              "          0                0  0               0             ⎥    ⎥\n",
              "                                                            ⎥    ⎥\n",
              "          0                0  0               0             ⎥    ⎥\n",
              "                                                            ⎥    ⎥\n",
              "                    2                                       ⎥    ⎥\n",
              "\\ddot{a}(t)⋅a(t)⋅sin (θ)                                    ⎥    ⎥\n",
              "─────────────────────────  0  0               0             ⎥    ⎥\n",
              "           2                                                ⎥    ⎥\n",
              "          c                                                 ⎦    ⎥\n",
              "                                                                 ⎥\n",
              "           0                  0                 0               ⎤⎥\n",
              "                                                                ⎥⎥\n",
              "                                  2 ⎛ 2            2   ⎞    2   ⎥⎥\n",
              "                                 r ⋅⎝c ⋅k + \\dot{a} (t)⎠⋅sin (θ)⎥⎥\n",
              "           0                  0  ───────────────────────────────⎥⎥\n",
              "                                                 2              ⎥⎥\n",
              "                                                c               ⎥⎥\n",
              "                                                                ⎥⎥\n",
              "           0                  0                 0               ⎥⎥\n",
              "                                                                ⎥⎥\n",
              " 2            2   ⎞    2                                        ⎥⎥\n",
              "c ⋅k + \\dot{a} (t)⎠⋅sin (θ)                                     ⎥⎥\n",
              "────────────────────────────  0                 0               ⎥⎥\n",
              "            2                                                   ⎥⎥\n",
              "           c                                                    ⎦⎥\n",
              "                                                                 ⎥\n",
              "              0                                 0               ⎤⎥\n",
              "                                                                ⎥⎥\n",
              "              0                                 0               ⎥⎥\n",
              "                                                                ⎥⎥\n",
              "                                  2 ⎛ 2            2   ⎞    2   ⎥⎥\n",
              "                                 r ⋅⎝c ⋅k + \\dot{a} (t)⎠⋅sin (θ)⎥⎥\n",
              "              0                  ───────────────────────────────⎥⎥\n",
              "                                                 2              ⎥⎥\n",
              "                                                c               ⎥⎥\n",
              "                                                                ⎥⎥\n",
              "2 ⎛ 2            2   ⎞    2                                     ⎥⎥\n",
              " ⋅⎝c ⋅k + \\dot{a} (t)⎠⋅sin (θ)                                  ⎥⎥\n",
              "───────────────────────────────                 0               ⎥⎥\n",
              "               2                                                ⎥⎥\n",
              "              c                                                 ⎦⎥\n",
              "                                                                 ⎥\n",
              "                                                                 ⎥\n",
              "                                                                 ⎥\n",
              "                                                                 ⎥\n",
              "                                                                 ⎥\n",
              "                      ⎡0  0  0  0⎤                               ⎥\n",
              "                      ⎢          ⎥                               ⎥\n",
              "                      ⎢0  0  0  0⎥                               ⎥\n",
              "                      ⎢          ⎥                               ⎥\n",
              "                      ⎢0  0  0  0⎥                               ⎥\n",
              "                      ⎢          ⎥                               ⎥\n",
              "                      ⎣0  0  0  0⎦                               ⎥\n",
              "                                                                 ⎥\n",
              "                                                                 ⎥\n",
              "                                                                 ⎥\n",
              "                                                                 ⎦"
            ]
          },
          "metadata": {},
          "execution_count": 8
        }
      ]
    },
    {
      "cell_type": "code",
      "metadata": {
        "id": "k__JOTW6ORTY"
      },
      "source": [
        ""
      ],
      "execution_count": null,
      "outputs": []
    },
    {
      "cell_type": "code",
      "metadata": {
        "id": "NCIxU6Mp3Cye",
        "colab": {
          "base_uri": "https://localhost:8080/",
          "height": 401
        },
        "outputId": "6d62bf05-ba71-4c8e-a3d5-2d586b63fea2"
      },
      "source": [
        "# Calculating Riemann Tensor from Metric Tensor\n",
        "rm2 = RiemannCurvatureTensor.from_metric(m_obj)\n",
        "rm2.tensor().subs(alias)"
      ],
      "execution_count": null,
      "outputs": [
        {
          "output_type": "execute_result",
          "data": {
            "text/latex": "$\\displaystyle \\left[\\begin{matrix}\\left[\\begin{matrix}0 & 0 & 0 & 0\\\\0 & 0 & 0 & 0\\\\0 & 0 & 0 & 0\\\\0 & 0 & 0 & 0\\end{matrix}\\right] & \\left[\\begin{matrix}0 & - \\frac{\\ddot{a}{\\left(t \\right)} a{\\left(t \\right)}}{c^{2} \\left(k r^{2} - 1\\right)} & 0 & 0\\\\\\frac{\\ddot{a}{\\left(t \\right)} a{\\left(t \\right)}}{c^{2} \\left(k r^{2} - 1\\right)} & 0 & 0 & 0\\\\0 & 0 & 0 & 0\\\\0 & 0 & 0 & 0\\end{matrix}\\right] & \\left[\\begin{matrix}0 & 0 & \\frac{r^{2} \\ddot{a}{\\left(t \\right)} a{\\left(t \\right)}}{c^{2}} & 0\\\\0 & 0 & 0 & 0\\\\- \\frac{r^{2} \\ddot{a}{\\left(t \\right)} a{\\left(t \\right)}}{c^{2}} & 0 & 0 & 0\\\\0 & 0 & 0 & 0\\end{matrix}\\right] & \\left[\\begin{matrix}0 & 0 & 0 & \\frac{r^{2} \\ddot{a}{\\left(t \\right)} a{\\left(t \\right)} \\sin^{2}{\\left(\\theta \\right)}}{c^{2}}\\\\0 & 0 & 0 & 0\\\\0 & 0 & 0 & 0\\\\- \\frac{r^{2} \\ddot{a}{\\left(t \\right)} a{\\left(t \\right)} \\sin^{2}{\\left(\\theta \\right)}}{c^{2}} & 0 & 0 & 0\\end{matrix}\\right]\\\\\\left[\\begin{matrix}0 & \\frac{\\ddot{a}{\\left(t \\right)}}{a{\\left(t \\right)}} & 0 & 0\\\\- \\frac{\\ddot{a}{\\left(t \\right)}}{a{\\left(t \\right)}} & 0 & 0 & 0\\\\0 & 0 & 0 & 0\\\\0 & 0 & 0 & 0\\end{matrix}\\right] & \\left[\\begin{matrix}0 & 0 & 0 & 0\\\\0 & 0 & 0 & 0\\\\0 & 0 & 0 & 0\\\\0 & 0 & 0 & 0\\end{matrix}\\right] & \\left[\\begin{matrix}0 & 0 & 0 & 0\\\\0 & 0 & \\frac{r^{2} \\left(c^{2} k + \\dot{a}^{2}{\\left(t \\right)}\\right)}{c^{2}} & 0\\\\0 & - \\frac{r^{2} \\left(c^{2} k + \\dot{a}^{2}{\\left(t \\right)}\\right)}{c^{2}} & 0 & 0\\\\0 & 0 & 0 & 0\\end{matrix}\\right] & \\left[\\begin{matrix}0 & 0 & 0 & 0\\\\0 & 0 & 0 & \\frac{r^{2} \\left(c^{2} k + \\dot{a}^{2}{\\left(t \\right)}\\right) \\sin^{2}{\\left(\\theta \\right)}}{c^{2}}\\\\0 & 0 & 0 & 0\\\\0 & - \\frac{r^{2} \\left(c^{2} k + \\dot{a}^{2}{\\left(t \\right)}\\right) \\sin^{2}{\\left(\\theta \\right)}}{c^{2}} & 0 & 0\\end{matrix}\\right]\\\\\\left[\\begin{matrix}0 & 0 & \\frac{\\ddot{a}{\\left(t \\right)}}{a{\\left(t \\right)}} & 0\\\\0 & 0 & 0 & 0\\\\- \\frac{\\ddot{a}{\\left(t \\right)}}{a{\\left(t \\right)}} & 0 & 0 & 0\\\\0 & 0 & 0 & 0\\end{matrix}\\right] & \\left[\\begin{matrix}0 & 0 & 0 & 0\\\\0 & 0 & \\frac{c^{2} k + \\dot{a}^{2}{\\left(t \\right)}}{c^{2} \\left(k r^{2} - 1\\right)} & 0\\\\0 & \\frac{- c^{2} k - \\dot{a}^{2}{\\left(t \\right)}}{c^{2} \\left(k r^{2} - 1\\right)} & 0 & 0\\\\0 & 0 & 0 & 0\\end{matrix}\\right] & \\left[\\begin{matrix}0 & 0 & 0 & 0\\\\0 & 0 & 0 & 0\\\\0 & 0 & 0 & 0\\\\0 & 0 & 0 & 0\\end{matrix}\\right] & \\left[\\begin{matrix}0 & 0 & 0 & 0\\\\0 & 0 & 0 & 0\\\\0 & 0 & 0 & \\frac{r^{2} \\left(c^{2} k + \\dot{a}^{2}{\\left(t \\right)}\\right) \\sin^{2}{\\left(\\theta \\right)}}{c^{2}}\\\\0 & 0 & - \\frac{r^{2} \\left(c^{2} k + \\dot{a}^{2}{\\left(t \\right)}\\right) \\sin^{2}{\\left(\\theta \\right)}}{c^{2}} & 0\\end{matrix}\\right]\\\\\\left[\\begin{matrix}0 & 0 & 0 & \\frac{\\ddot{a}{\\left(t \\right)}}{a{\\left(t \\right)}}\\\\0 & 0 & 0 & 0\\\\0 & 0 & 0 & 0\\\\- \\frac{\\ddot{a}{\\left(t \\right)}}{a{\\left(t \\right)}} & 0 & 0 & 0\\end{matrix}\\right] & \\left[\\begin{matrix}0 & 0 & 0 & 0\\\\0 & 0 & 0 & \\frac{c^{2} k + \\dot{a}^{2}{\\left(t \\right)}}{c^{2} \\left(k r^{2} - 1\\right)}\\\\0 & 0 & 0 & 0\\\\0 & \\frac{- c^{2} k - \\dot{a}^{2}{\\left(t \\right)}}{c^{2} \\left(k r^{2} - 1\\right)} & 0 & 0\\end{matrix}\\right] & \\left[\\begin{matrix}0 & 0 & 0 & 0\\\\0 & 0 & 0 & 0\\\\0 & 0 & 0 & - \\frac{r^{2} \\left(c^{2} k + \\dot{a}^{2}{\\left(t \\right)}\\right)}{c^{2}}\\\\0 & 0 & \\frac{r^{2} \\left(c^{2} k + \\dot{a}^{2}{\\left(t \\right)}\\right)}{c^{2}} & 0\\end{matrix}\\right] & \\left[\\begin{matrix}0 & 0 & 0 & 0\\\\0 & 0 & 0 & 0\\\\0 & 0 & 0 & 0\\\\0 & 0 & 0 & 0\\end{matrix}\\right]\\end{matrix}\\right]$",
            "text/plain": [
              "⎡                                                                             \n",
              "⎢                                      ⎡                  -\\ddot{a}(t)⋅a(t)   \n",
              "⎢                                      ⎢       0          ──────────────────  \n",
              "⎢                                      ⎢                     2 ⎛   2    ⎞     \n",
              "⎢           ⎡0  0  0  0⎤               ⎢                    c ⋅⎝k⋅r  - 1⎠     \n",
              "⎢           ⎢          ⎥               ⎢                                      \n",
              "⎢           ⎢0  0  0  0⎥               ⎢\\ddot{a}(t)⋅a(t)                      \n",
              "⎢           ⎢          ⎥               ⎢────────────────          0           \n",
              "⎢           ⎢0  0  0  0⎥               ⎢  2 ⎛   2    ⎞                        \n",
              "⎢           ⎢          ⎥               ⎢ c ⋅⎝k⋅r  - 1⎠                        \n",
              "⎢           ⎣0  0  0  0⎦               ⎢                                      \n",
              "⎢                                      ⎢       0                  0           \n",
              "⎢                                      ⎢                                      \n",
              "⎢                                      ⎣       0                  0           \n",
              "⎢                                                                             \n",
              "⎢                                                                             \n",
              "⎢                                                                             \n",
              "⎢                                                                             \n",
              "⎢⎡               \\ddot{a}(t)      ⎤                                           \n",
              "⎢⎢      0        ───────────  0  0⎥                                           \n",
              "⎢⎢                   a(t)         ⎥                    ⎡0  0  0  0⎤           \n",
              "⎢⎢                                ⎥                    ⎢          ⎥           \n",
              "⎢⎢-\\ddot{a}(t)                    ⎥                    ⎢0  0  0  0⎥           \n",
              "⎢⎢─────────────       0       0  0⎥                    ⎢          ⎥           \n",
              "⎢⎢     a(t)                       ⎥                    ⎢0  0  0  0⎥           \n",
              "⎢⎢                                ⎥                    ⎢          ⎥           \n",
              "⎢⎢      0             0       0  0⎥                    ⎣0  0  0  0⎦           \n",
              "⎢⎢                                ⎥                                           \n",
              "⎢⎣      0             0       0  0⎦                                           \n",
              "⎢                                                                             \n",
              "⎢                                                                             \n",
              "⎢                                                                             \n",
              "⎢                                    ⎡0           0                    0      \n",
              "⎢                                    ⎢                                        \n",
              "⎢⎡                  \\ddot{a}(t)   ⎤  ⎢                          2            2\n",
              "⎢⎢      0        0  ───────────  0⎥  ⎢                         c ⋅k + \\dot{a} \n",
              "⎢⎢                      a(t)      ⎥  ⎢0           0            ───────────────\n",
              "⎢⎢                                ⎥  ⎢                            2 ⎛   2    ⎞\n",
              "⎢⎢      0        0       0       0⎥  ⎢                           c ⋅⎝k⋅r  - 1⎠\n",
              "⎢⎢                                ⎥  ⎢                                        \n",
              "⎢⎢-\\ddot{a}(t)                    ⎥  ⎢      2            2                    \n",
              "⎢⎢─────────────  0       0       0⎥  ⎢   - c ⋅k - \\dot{a} (t)                 \n",
              "⎢⎢     a(t)                       ⎥  ⎢0  ────────────────────          0      \n",
              "⎢⎢                                ⎥  ⎢       2 ⎛   2    ⎞                     \n",
              "⎢⎣      0        0       0       0⎦  ⎢      c ⋅⎝k⋅r  - 1⎠                     \n",
              "⎢                                    ⎢                                        \n",
              "⎢                                    ⎣0           0                    0      \n",
              "⎢                                                                             \n",
              "⎢                                    ⎡0           0            0          0   \n",
              "⎢                                    ⎢                                        \n",
              "⎢⎡                     \\ddot{a}(t)⎤  ⎢                             2          \n",
              "⎢⎢      0        0  0  ───────────⎥  ⎢                            c ⋅k + \\dot{\n",
              "⎢⎢                         a(t)   ⎥  ⎢0           0            0  ────────────\n",
              "⎢⎢                                ⎥  ⎢                               2 ⎛   2  \n",
              "⎢⎢      0        0  0       0     ⎥  ⎢                              c ⋅⎝k⋅r  -\n",
              "⎢⎢                                ⎥  ⎢                                        \n",
              "⎢⎢      0        0  0       0     ⎥  ⎢0           0            0          0   \n",
              "⎢⎢                                ⎥  ⎢                                        \n",
              "⎢⎢-\\ddot{a}(t)                    ⎥  ⎢      2            2                    \n",
              "⎢⎢─────────────  0  0       0     ⎥  ⎢   - c ⋅k - \\dot{a} (t)                 \n",
              "⎢⎣     a(t)                       ⎦  ⎢0  ────────────────────  0          0   \n",
              "⎢                                    ⎢       2 ⎛   2    ⎞                     \n",
              "⎣                                    ⎣      c ⋅⎝k⋅r  - 1⎠                     \n",
              "\n",
              "             ⎡                           2                    ⎤          ⎡    \n",
              "    ⎤        ⎢                          r ⋅\\ddot{a}(t)⋅a(t)   ⎥          ⎢    \n",
              "0  0⎥        ⎢          0            0  ───────────────────  0⎥          ⎢    \n",
              "    ⎥        ⎢                                    2           ⎥          ⎢    \n",
              "    ⎥        ⎢                                   c            ⎥          ⎢    \n",
              "    ⎥        ⎢                                                ⎥          ⎢    \n",
              "    ⎥        ⎢          0            0           0           0⎥          ⎢    \n",
              "0  0⎥        ⎢                                                ⎥          ⎢    \n",
              "    ⎥        ⎢  2                                             ⎥          ⎢    \n",
              "    ⎥        ⎢-r ⋅\\ddot{a}(t)⋅a(t)                            ⎥          ⎢    \n",
              "    ⎥        ⎢─────────────────────  0           0           0⎥          ⎢  2 \n",
              "0  0⎥        ⎢           2                                    ⎥          ⎢-r ⋅\n",
              "    ⎥        ⎢          c                                     ⎥          ⎢────\n",
              "0  0⎦        ⎢                                                ⎥          ⎢    \n",
              "             ⎣          0            0           0           0⎦          ⎣    \n",
              "                                                                              \n",
              "         ⎡0              0                         0             0⎤  ⎡0       \n",
              "         ⎢                                                        ⎥  ⎢        \n",
              "         ⎢                               2 ⎛ 2            2   ⎞   ⎥  ⎢        \n",
              "         ⎢                              r ⋅⎝c ⋅k + \\dot{a} (t)⎠   ⎥  ⎢        \n",
              "         ⎢0              0              ───────────────────────  0⎥  ⎢0       \n",
              "         ⎢                                          2             ⎥  ⎢        \n",
              "         ⎢                                         c              ⎥  ⎢        \n",
              "         ⎢                                                        ⎥  ⎢        \n",
              "         ⎢     2 ⎛ 2            2   ⎞                             ⎥  ⎢0       \n",
              "         ⎢   -r ⋅⎝c ⋅k + \\dot{a} (t)⎠                             ⎥  ⎢        \n",
              "         ⎢0  ─────────────────────────             0             0⎥  ⎢     2 ⎛\n",
              "         ⎢                2                                       ⎥  ⎢   -r ⋅⎝\n",
              "         ⎢               c                                        ⎥  ⎢0  ─────\n",
              "         ⎢                                                        ⎥  ⎢        \n",
              "         ⎣0              0                         0             0⎦  ⎣        \n",
              "                                                                              \n",
              "     0⎤                                                              ⎡0  0    \n",
              "      ⎥                                                              ⎢        \n",
              "      ⎥                                                              ⎢0  0    \n",
              "(t)   ⎥                                                              ⎢        \n",
              "───  0⎥                         ⎡0  0  0  0⎤                         ⎢        \n",
              "      ⎥                         ⎢          ⎥                         ⎢        \n",
              "      ⎥                         ⎢0  0  0  0⎥                         ⎢0  0    \n",
              "      ⎥                         ⎢          ⎥                         ⎢        \n",
              "      ⎥                         ⎢0  0  0  0⎥                         ⎢        \n",
              "      ⎥                         ⎢          ⎥                         ⎢        \n",
              "     0⎥                         ⎣0  0  0  0⎦                         ⎢        \n",
              "      ⎥                                                              ⎢      -r\n",
              "      ⎥                                                              ⎢0  0  ──\n",
              "      ⎥                                                              ⎢        \n",
              "     0⎦                                                              ⎣        \n",
              "                                                                              \n",
              "      ⎤  ⎡0  0             0                         0            ⎤           \n",
              "      ⎥  ⎢                                                        ⎥           \n",
              "  2   ⎥  ⎢0  0             0                         0            ⎥           \n",
              "a} (t)⎥  ⎢                                                        ⎥           \n",
              "──────⎥  ⎢                                 2 ⎛ 2            2   ⎞ ⎥           \n",
              "  ⎞   ⎥  ⎢                               -r ⋅⎝c ⋅k + \\dot{a} (t)⎠ ⎥           \n",
              " 1⎠   ⎥  ⎢0  0             0             ─────────────────────────⎥           \n",
              "      ⎥  ⎢                                            2           ⎥           \n",
              "      ⎥  ⎢                                           c            ⎥           \n",
              "      ⎥  ⎢                                                        ⎥           \n",
              "      ⎥  ⎢       2 ⎛ 2            2   ⎞                           ⎥           \n",
              "      ⎥  ⎢      r ⋅⎝c ⋅k + \\dot{a} (t)⎠                           ⎥           \n",
              "      ⎥  ⎢0  0  ───────────────────────              0            ⎥           \n",
              "      ⎥  ⎢                  2                                     ⎥           \n",
              "      ⎦  ⎣                 c                                      ⎦           \n",
              "\n",
              "                                  2                     2   ⎤    ⎤\n",
              "                                 r ⋅\\ddot{a}(t)⋅a(t)⋅sin (θ)⎥    ⎥\n",
              "          0                0  0  ───────────────────────────⎥    ⎥\n",
              "                                               2            ⎥    ⎥\n",
              "                                              c             ⎥    ⎥\n",
              "                                                            ⎥    ⎥\n",
              "          0                0  0               0             ⎥    ⎥\n",
              "                                                            ⎥    ⎥\n",
              "          0                0  0               0             ⎥    ⎥\n",
              "                                                            ⎥    ⎥\n",
              "                    2                                       ⎥    ⎥\n",
              "\\ddot{a}(t)⋅a(t)⋅sin (θ)                                    ⎥    ⎥\n",
              "─────────────────────────  0  0               0             ⎥    ⎥\n",
              "           2                                                ⎥    ⎥\n",
              "          c                                                 ⎦    ⎥\n",
              "                                                                 ⎥\n",
              "           0                  0                 0               ⎤⎥\n",
              "                                                                ⎥⎥\n",
              "                                  2 ⎛ 2            2   ⎞    2   ⎥⎥\n",
              "                                 r ⋅⎝c ⋅k + \\dot{a} (t)⎠⋅sin (θ)⎥⎥\n",
              "           0                  0  ───────────────────────────────⎥⎥\n",
              "                                                 2              ⎥⎥\n",
              "                                                c               ⎥⎥\n",
              "                                                                ⎥⎥\n",
              "           0                  0                 0               ⎥⎥\n",
              "                                                                ⎥⎥\n",
              " 2            2   ⎞    2                                        ⎥⎥\n",
              "c ⋅k + \\dot{a} (t)⎠⋅sin (θ)                                     ⎥⎥\n",
              "────────────────────────────  0                 0               ⎥⎥\n",
              "            2                                                   ⎥⎥\n",
              "           c                                                    ⎦⎥\n",
              "                                                                 ⎥\n",
              "              0                                 0               ⎤⎥\n",
              "                                                                ⎥⎥\n",
              "              0                                 0               ⎥⎥\n",
              "                                                                ⎥⎥\n",
              "                                  2 ⎛ 2            2   ⎞    2   ⎥⎥\n",
              "                                 r ⋅⎝c ⋅k + \\dot{a} (t)⎠⋅sin (θ)⎥⎥\n",
              "              0                  ───────────────────────────────⎥⎥\n",
              "                                                 2              ⎥⎥\n",
              "                                                c               ⎥⎥\n",
              "                                                                ⎥⎥\n",
              "2 ⎛ 2            2   ⎞    2                                     ⎥⎥\n",
              " ⋅⎝c ⋅k + \\dot{a} (t)⎠⋅sin (θ)                                  ⎥⎥\n",
              "───────────────────────────────                 0               ⎥⎥\n",
              "               2                                                ⎥⎥\n",
              "              c                                                 ⎦⎥\n",
              "                                                                 ⎥\n",
              "                                                                 ⎥\n",
              "                                                                 ⎥\n",
              "                                                                 ⎥\n",
              "                                                                 ⎥\n",
              "                      ⎡0  0  0  0⎤                               ⎥\n",
              "                      ⎢          ⎥                               ⎥\n",
              "                      ⎢0  0  0  0⎥                               ⎥\n",
              "                      ⎢          ⎥                               ⎥\n",
              "                      ⎢0  0  0  0⎥                               ⎥\n",
              "                      ⎢          ⎥                               ⎥\n",
              "                      ⎣0  0  0  0⎦                               ⎥\n",
              "                                                                 ⎥\n",
              "                                                                 ⎥\n",
              "                                                                 ⎥\n",
              "                                                                 ⎦"
            ]
          },
          "metadata": {},
          "execution_count": 9
        }
      ]
    },
    {
      "cell_type": "code",
      "metadata": {
        "id": "Er7mmi093Cyf",
        "colab": {
          "base_uri": "https://localhost:8080/",
          "height": 58
        },
        "outputId": "21179410-d84b-4585-8959-8a6f92311668"
      },
      "source": [
        "# Calculating Ricci Scalar from the Metric Tensor\n",
        "\n",
        "\n",
        "scalar_curvature = RicciScalar.from_metric(m_obj)\n",
        "RS=scalar_curvature.tensor().subs(alias)\n",
        "RS"
      ],
      "execution_count": null,
      "outputs": [
        {
          "output_type": "execute_result",
          "data": {
            "image/png": "[encoded data removed]",
            "text/latex": "$\\displaystyle \\frac{- 6 c^{2} k - 6 \\ddot{a}{\\left(t \\right)} a{\\left(t \\right)} - 6 \\dot{a}^{2}{\\left(t \\right)}}{c^{2} a^{2}{\\left(t \\right)}}$",
            "text/plain": [
              "     2                                   2   \n",
              "- 6⋅c ⋅k - 6⋅\\ddot{a}(t)⋅a(t) - 6⋅\\dot{a} (t)\n",
              "─────────────────────────────────────────────\n",
              "                    2  2                     \n",
              "                   c ⋅a (t)                  "
            ]
          },
          "metadata": {},
          "execution_count": 10
        }
      ]
    },
    {
      "cell_type": "code",
      "metadata": {
        "id": "z9vKCh4l3Cyf",
        "colab": {
          "base_uri": "https://localhost:8080/",
          "height": 130
        },
        "outputId": "56e8cd47-6515-45cb-c74c-8d730f76d72e"
      },
      "source": [
        "# Calculating Einstein Tensor from the Metric Tensor\n",
        "einst = EinsteinTensor.from_metric(m_obj)\n",
        "einst.tensor().subs(alias)"
      ],
      "execution_count": null,
      "outputs": [
        {
          "output_type": "execute_result",
          "data": {
            "text/latex": "$\\displaystyle \\left[\\begin{matrix}\\frac{3.0 c^{2} k + 3.0 \\ddot{a}{\\left(t \\right)} a{\\left(t \\right)} + 3.0 \\dot{a}^{2}{\\left(t \\right)}}{a^{2}{\\left(t \\right)}} - \\frac{3 \\ddot{a}{\\left(t \\right)}}{a{\\left(t \\right)}} & 0 & 0 & 0\\\\0 & \\frac{- 2 c^{2} k - \\ddot{a}{\\left(t \\right)} a{\\left(t \\right)} - 2 \\dot{a}^{2}{\\left(t \\right)}}{c^{2} \\left(k r^{2} - 1\\right)} + \\frac{- 3.0 c^{2} k - 3.0 \\ddot{a}{\\left(t \\right)} a{\\left(t \\right)} - 3.0 \\dot{a}^{2}{\\left(t \\right)}}{c^{2} \\left(- k r^{2} + 1\\right)} & 0 & 0\\\\0 & 0 & \\frac{r^{2} \\left(2 c^{2} k + \\ddot{a}{\\left(t \\right)} a{\\left(t \\right)} + 2 \\dot{a}^{2}{\\left(t \\right)}\\right)}{c^{2}} - \\frac{0.5 r^{2} \\left(6 c^{2} k + 6 \\ddot{a}{\\left(t \\right)} a{\\left(t \\right)} + 6 \\dot{a}^{2}{\\left(t \\right)}\\right)}{c^{2}} & 0\\\\0 & 0 & 0 & \\frac{r^{2} \\left(2 c^{2} k + \\ddot{a}{\\left(t \\right)} a{\\left(t \\right)} + 2 \\dot{a}^{2}{\\left(t \\right)}\\right) \\sin^{2}{\\left(\\theta \\right)}}{c^{2}} - \\frac{0.5 r^{2} \\left(6 c^{2} k + 6 \\ddot{a}{\\left(t \\right)} a{\\left(t \\right)} + 6 \\dot{a}^{2}{\\left(t \\right)}\\right) \\sin^{2}{\\left(\\theta \\right)}}{c^{2}}\\end{matrix}\\right]$",
            "text/plain": [
              "⎡     2                                       2                               \n",
              "⎢3.0⋅c ⋅k + 3.0⋅\\ddot{a}(t)⋅a(t) + 3.0⋅\\dot{a} (t)   3⋅\\ddot{a}(t)            \n",
              "⎢───────────────────────────────────────────────── - ─────────────            \n",
              "⎢                       2                                 a(t)                \n",
              "⎢                      a (t)                                                  \n",
              "⎢                                                                             \n",
              "⎢                                                                        2    \n",
              "⎢                                                                   - 2⋅c ⋅k -\n",
              "⎢                                0                                  ──────────\n",
              "⎢                                                                             \n",
              "⎢                                                                             \n",
              "⎢                                                                             \n",
              "⎢                                                                             \n",
              "⎢                                                                             \n",
              "⎢                                0                                            \n",
              "⎢                                                                             \n",
              "⎢                                                                             \n",
              "⎢                                                                             \n",
              "⎢                                                                             \n",
              "⎢                                                                             \n",
              "⎢                                0                                            \n",
              "⎢                                                                             \n",
              "⎣                                                                             \n",
              "\n",
              "                                                                              \n",
              "                                                                              \n",
              "                                      0                                       \n",
              "                                                                              \n",
              "                                                                              \n",
              "                                                                              \n",
              "                             2             2                                  \n",
              " \\ddot{a}(t)⋅a(t) - 2⋅\\dot{a} (t)   - 3.0⋅c ⋅k - 3.0⋅\\ddot{a}(t)⋅a(t) - 3.0⋅\\d\n",
              "───────────────────────────────── + ──────────────────────────────────────────\n",
              "      2 ⎛   2    ⎞                                     2 ⎛     2    ⎞         \n",
              "     c ⋅⎝k⋅r  - 1⎠                                    c ⋅⎝- k⋅r  + 1⎠         \n",
              "                                                                              \n",
              "                                                                              \n",
              "                                                                              \n",
              "                                      0                                       \n",
              "                                                                              \n",
              "                                                                              \n",
              "                                                                              \n",
              "                                                                              \n",
              "                                                                              \n",
              "                                      0                                       \n",
              "                                                                              \n",
              "                                                                              \n",
              "\n",
              "                                                                              \n",
              "                                                                              \n",
              "                                                             0                \n",
              "                                                                              \n",
              "                                                                              \n",
              "                                                                              \n",
              "     2                                                                        \n",
              "ot{a} (t)                                                                     \n",
              "─────────                                                    0                \n",
              "                                                                              \n",
              "                                                                              \n",
              "                                                                              \n",
              "            2 ⎛   2                                 2   ⎞        2 ⎛   2      \n",
              "           r ⋅⎝2⋅c ⋅k + \\ddot{a}(t)⋅a(t) + 2⋅\\dot{a} (t)⎠   0.5⋅r ⋅⎝6⋅c ⋅k + 6\n",
              "           ────────────────────────────────────────────── - ──────────────────\n",
              "                                  2                                           \n",
              "                                 c                                            \n",
              "                                                                              \n",
              "                                                                              \n",
              "                                                                              \n",
              "                                                             0                \n",
              "                                                                              \n",
              "                                                                              \n",
              "\n",
              "                                                                              \n",
              "                                                                              \n",
              "                                                                              \n",
              "                                                                              \n",
              "                                                                              \n",
              "                                                                              \n",
              "                                                                              \n",
              "                                                                              \n",
              "                                                                              \n",
              "                                                                              \n",
              "                                                                              \n",
              "                                                                              \n",
              "                             2   ⎞                                            \n",
              "⋅\\ddot{a}(t)⋅a(t) + 6⋅\\dot{a} (t)⎠                                            \n",
              "──────────────────────────────────                                            \n",
              "        2                                                                     \n",
              "       c                                                                      \n",
              "                                                                              \n",
              "                                     2 ⎛   2                                 2\n",
              "                                    r ⋅⎝2⋅c ⋅k + \\ddot{a}(t)⋅a(t) + 2⋅\\dot{a} \n",
              "                                    ──────────────────────────────────────────\n",
              "                                                               2              \n",
              "                                                              c               \n",
              "\n",
              "                                                                           ⎤\n",
              "                                                                           ⎥\n",
              "                0                                                          ⎥\n",
              "                                                                           ⎥\n",
              "                                                                           ⎥\n",
              "                                                                           ⎥\n",
              "                                                                           ⎥\n",
              "                                                                           ⎥\n",
              "                0                                                          ⎥\n",
              "                                                                           ⎥\n",
              "                                                                           ⎥\n",
              "                                                                           ⎥\n",
              "                                                                           ⎥\n",
              "                                                                           ⎥\n",
              "                0                                                          ⎥\n",
              "                                                                           ⎥\n",
              "                                                                           ⎥\n",
              "                                                                           ⎥\n",
              "   ⎞    2           2 ⎛   2                                   2   ⎞    2   ⎥\n",
              "(t)⎠⋅sin (θ)   0.5⋅r ⋅⎝6⋅c ⋅k + 6⋅\\ddot{a}(t)⋅a(t) + 6⋅\\dot{a} (t)⎠⋅sin (θ)⎥\n",
              "──────────── - ────────────────────────────────────────────────────────────⎥\n",
              "                                             2                             ⎥\n",
              "                                            c                              ⎦"
            ]
          },
          "metadata": {},
          "execution_count": 11
        }
      ]
    },
    {
      "cell_type": "code",
      "metadata": {
        "id": "gRmKr0dW3Cyg",
        "colab": {
          "base_uri": "https://localhost:8080/",
          "height": 99
        },
        "outputId": "5ebc880a-f711-4f97-c3f1-41c0aa2f2b89"
      },
      "source": [
        "# Define a stress Energy Momentum Tensor\n",
        "d = sympy.symbols('rho')\n",
        "p = sympy.symbols('p')\n",
        "mm = sympy.diag(d,-p,-p,-p).tolist()\n",
        "\n",
        "T = StressEnergyMomentumTensor(mm,syms[:4])\n",
        "T.tensor()"
      ],
      "execution_count": null,
      "outputs": [
        {
          "output_type": "execute_result",
          "data": {
            "text/latex": "$\\displaystyle \\left[\\begin{matrix}\\rho & 0 & 0 & 0\\\\0 & - p & 0 & 0\\\\0 & 0 & - p & 0\\\\0 & 0 & 0 & - p\\end{matrix}\\right]$",
            "text/plain": [
              "⎡ρ  0   0   0 ⎤\n",
              "⎢             ⎥\n",
              "⎢0  -p  0   0 ⎥\n",
              "⎢             ⎥\n",
              "⎢0  0   -p  0 ⎥\n",
              "⎢             ⎥\n",
              "⎣0  0   0   -p⎦"
            ]
          },
          "metadata": {},
          "execution_count": 12
        }
      ]
    },
    {
      "cell_type": "code",
      "metadata": {
        "id": "z99PjL8x3Cyh",
        "colab": {
          "base_uri": "https://localhost:8080/",
          "height": 57
        },
        "outputId": "5b3b0af5-08e1-430f-9608-6fd3fdc304c1"
      },
      "source": [
        "# looking at the time-time component of the field equations\n",
        "G = sympy.symbols('G')\n",
        "L = sympy.symbols('Lambda')\n",
        "eq1=einst[0,0]-L*m_obj[0,0]-8*pi*G*T[0,0]\n",
        "eq1.simplify().subs(alias)\n",
        "H2=eq1-3*(a.diff(t)/a)**2\n",
        "H2=-H2/3\n",
        "H2.simplify()\n",
        "#ad=H2*a**2\n",
        "#ad.simplify()\n"
      ],
      "execution_count": null,
      "outputs": [
        {
          "output_type": "execute_result",
          "data": {
            "image/png": "[encoded data removed]",
            "text/latex": "$\\displaystyle \\frac{8 \\pi G \\rho}{3} + \\frac{\\Lambda c^{2}}{3} - \\frac{1.0 c^{2} k}{a^{2}{\\left(t \\right)}}$",
            "text/plain": [
              "             2     2  \n",
              "8⋅π⋅G⋅ρ   Λ⋅c     c ⋅k\n",
              "─────── + ──── - ─────\n",
              "   3       3      2   \n",
              "                 a (t)"
            ]
          },
          "metadata": {},
          "execution_count": 41
        }
      ]
    },
    {
      "cell_type": "code",
      "metadata": {
        "id": "P7BV9IBZ3Cyh",
        "colab": {
          "base_uri": "https://localhost:8080/",
          "height": 57
        },
        "outputId": "5dc2e1a4-dc3a-4914-e6ae-24cb9ad97140"
      },
      "source": [
        "# looking at the space-space components\n",
        "eq2=einst[2,2]-L*m_obj[2,2]-8*pi*G*T[2,2]*m_obj[2,2]\n",
        "eq2.simplify().subs(alias)\n",
        "#eq2.subs({a.diff(t)**2:ad}).simplify()\n",
        "eq3=eq2/m_obj[2,2]\n",
        "eq3.simplify().subs(alias)"
      ],
      "execution_count": null,
      "outputs": [
        {
          "output_type": "execute_result",
          "data": {
            "image/png": "[encoded data removed]",
            "text/latex": "$\\displaystyle 8 \\pi G p - \\Lambda + \\frac{1.0 k}{a^{2}{\\left(t \\right)}} + \\frac{1.0 H^{2}{\\left(t \\right)}}{c^{2}} + \\frac{2.0 \\ddot{a}{\\left(t \\right)}}{c^{2} a{\\left(t \\right)}}$",
            "text/plain": [
              "                           2                     \n",
              "              1.0⋅k   1.0⋅H (t)   2.0⋅\\ddot{a}(t)\n",
              "8⋅π⋅G⋅p - Λ + ───── + ───────── + ───────────────\n",
              "               2           2           2         \n",
              "              a (t)       c           c ⋅a(t)    "
            ]
          },
          "metadata": {},
          "execution_count": 42
        }
      ]
    },
    {
      "cell_type": "code",
      "metadata": {
        "id": "6iXghmR83Cyh",
        "colab": {
          "base_uri": "https://localhost:8080/",
          "height": 57
        },
        "outputId": "4aab726c-fdeb-4357-d788-0c29585b1589"
      },
      "source": [
        "eq4=eq3-H**2\n",
        "eq4.simplify().subs(alias)"
      ],
      "execution_count": null,
      "outputs": [
        {
          "output_type": "execute_result",
          "data": {
            "image/png": "[encoded data removed]",
            "text/latex": "$\\displaystyle 8 \\pi G p - \\Lambda + \\frac{1.0 k}{a^{2}{\\left(t \\right)}} - H^{2}{\\left(t \\right)} + \\frac{1.0 H^{2}{\\left(t \\right)}}{c^{2}} + \\frac{2.0 \\ddot{a}{\\left(t \\right)}}{c^{2} a{\\left(t \\right)}}$",
            "text/plain": [
              "                                   2                     \n",
              "              1.0⋅k    2      1.0⋅H (t)   2.0⋅\\ddot{a}(t)\n",
              "8⋅π⋅G⋅p - Λ + ───── - H (t) + ───────── + ───────────────\n",
              "               2                   2           2         \n",
              "              a (t)               c           c ⋅a(t)    "
            ]
          },
          "metadata": {},
          "execution_count": 43
        }
      ]
    },
    {
      "cell_type": "code",
      "metadata": {
        "id": "uHdfItPd3Cyh",
        "colab": {
          "base_uri": "https://localhost:8080/",
          "height": 57
        },
        "outputId": "bde55fff-e6a9-4b09-c442-ddee8de58607"
      },
      "source": [
        "eq5=(2*eq4-3*H2)\n",
        "eq5.simplify().subs(alias)"
      ],
      "execution_count": null,
      "outputs": [
        {
          "output_type": "execute_result",
          "data": {
            "image/png": "[encoded data removed]",
            "text/latex": "$\\displaystyle 16.0 \\pi G p - 8.0 \\pi G \\rho - 1.0 \\Lambda c^{2} - 2.0 \\Lambda + \\frac{3.0 c^{2} k}{a^{2}{\\left(t \\right)}} + \\frac{2.0 k}{a^{2}{\\left(t \\right)}} - 2.0 H^{2}{\\left(t \\right)} + \\frac{2.0 H^{2}{\\left(t \\right)}}{c^{2}} + \\frac{4.0 \\ddot{a}{\\left(t \\right)}}{c^{2} a{\\left(t \\right)}}$",
            "text/plain": [
              "                                             2                              2 \n",
              "                            2           3.0⋅c ⋅k   2.0⋅k        2      2.0⋅H (\n",
              "16.0⋅π⋅G⋅p - 8.0⋅π⋅G⋅ρ - Λ⋅c  - 2.0⋅Λ + ──────── + ───── - 2.0⋅H (t) + ───────\n",
              "                                          2         2                       2 \n",
              "                                         a (t)     a (t)                   c  \n",
              "\n",
              "                    \n",
              "t)   4.0⋅\\ddot{a}(t)\n",
              "── + ───────────────\n",
              "          2         \n",
              "         c ⋅a(t)    "
            ]
          },
          "metadata": {},
          "execution_count": 44
        }
      ]
    },
    {
      "cell_type": "code",
      "metadata": {
        "id": "p7iekAra3Cyi"
      },
      "source": [
        "# w dark energy"
      ],
      "execution_count": null,
      "outputs": []
    },
    {
      "cell_type": "code",
      "metadata": {
        "id": "wYo_3Pkb3Cyi",
        "colab": {
          "base_uri": "https://localhost:8080/",
          "height": 98
        },
        "outputId": "334434b5-c3cf-4a5b-d932-206ad0815258"
      },
      "source": [
        "# Define a stress Energy Momentum Tensor\n",
        "rhom = sympy.symbols('rho_m')\n",
        "rhox = sympy.symbols('rho_X')\n",
        "px = sympy.symbols('p_X')\n",
        "w = sympy.symbols('w')\n",
        "mm = sympy.diag(rhom+rhox,w*rhox*c**2,w*rhox*c**2,w*rhox*c**2).tolist()\n",
        "\n",
        "T = StressEnergyMomentumTensor(mm,syms[:4])\n",
        "T.tensor()\n"
      ],
      "execution_count": null,
      "outputs": [
        {
          "output_type": "execute_result",
          "data": {
            "text/latex": "$\\displaystyle \\left[\\begin{matrix}\\rho_{X} + \\rho_{m} & 0 & 0 & 0\\\\0 & c^{2} \\rho_{X} w & 0 & 0\\\\0 & 0 & c^{2} \\rho_{X} w & 0\\\\0 & 0 & 0 & c^{2} \\rho_{X} w\\end{matrix}\\right]$",
            "text/plain": [
              "⎡ρ_X + ρₘ     0         0         0    ⎤\n",
              "⎢                                      ⎥\n",
              "⎢           2                          ⎥\n",
              "⎢   0      c ⋅ρ_X⋅w     0         0    ⎥\n",
              "⎢                                      ⎥\n",
              "⎢                     2                ⎥\n",
              "⎢   0         0      c ⋅ρ_X⋅w     0    ⎥\n",
              "⎢                                      ⎥\n",
              "⎢                               2      ⎥\n",
              "⎣   0         0         0      c ⋅ρ_X⋅w⎦"
            ]
          },
          "metadata": {},
          "execution_count": 46
        }
      ]
    },
    {
      "cell_type": "code",
      "metadata": {
        "colab": {
          "base_uri": "https://localhost:8080/",
          "height": 57
        },
        "id": "TLFe77e2TycX",
        "outputId": "5aed2d68-261f-4231-98e4-4575367723ce"
      },
      "source": [
        "\n",
        "eq1=einst[0,0]-8*pi*G*T[0,0]\n",
        "eq1.simplify().subs(alias)\n",
        "H2=eq1-3*(a.diff(t)/a)**2\n",
        "H2=-H2/3\n",
        "H2.simplify()\n"
      ],
      "execution_count": null,
      "outputs": [
        {
          "output_type": "execute_result",
          "data": {
            "image/png": "[encoded data removed]",
            "text/latex": "$\\displaystyle \\frac{8 \\pi G \\left(\\rho_{X} + \\rho_{m}\\right) a^{2}{\\left(t \\right)} - 3.0 c^{2} k}{3 a^{2}{\\left(t \\right)}}$",
            "text/plain": [
              "                  2           2  \n",
              "8⋅π⋅G⋅(ρ_X + ρₘ)⋅a (t) - 3.0⋅c ⋅k\n",
              "─────────────────────────────────\n",
              "                2                \n",
              "             3⋅a (t)             "
            ]
          },
          "metadata": {},
          "execution_count": 47
        }
      ]
    },
    {
      "cell_type": "code",
      "metadata": {
        "colab": {
          "base_uri": "https://localhost:8080/",
          "height": 55
        },
        "id": "eqQwOZlFXaBR",
        "outputId": "75ddea80-f913-4aa9-c49b-2a4b3279a635"
      },
      "source": [
        "# looking at the space-space components\n",
        "eq2=einst[2,2]*m_obj[2,2]-8*pi*G*T[2,2]*m_obj[2,2]\n",
        "eq2.simplify().subs(alias)\n",
        "#eq2.subs({a.diff(t)**2:ad}).simplify()\n",
        "eq3=eq2/m_obj[2,2]\n",
        "eq3.simplify().subs(alias)"
      ],
      "execution_count": null,
      "outputs": [
        {
          "output_type": "execute_result",
          "data": {
            "image/png": "[encoded data removed]",
            "text/latex": "$\\displaystyle \\frac{- 8 \\pi G c^{4} \\rho_{X} w - r^{2} \\left(1.0 c^{2} k + 2.0 \\ddot{a}{\\left(t \\right)} a{\\left(t \\right)} + 1.0 \\dot{a}^{2}{\\left(t \\right)}\\right)}{c^{2}}$",
            "text/plain": [
              "         4          2 ⎛     2                                       2   ⎞\n",
              "- 8⋅π⋅G⋅c ⋅ρ_X⋅w - r ⋅⎝1.0⋅c ⋅k + 2.0⋅\\ddot{a}(t)⋅a(t) + 1.0⋅\\dot{a} (t)⎠\n",
              "─────────────────────────────────────────────────────────────────────────\n",
              "                                     2                                   \n",
              "                                    c                                    "
            ]
          },
          "metadata": {},
          "execution_count": 48
        }
      ]
    },
    {
      "cell_type": "code",
      "metadata": {
        "id": "8cC2j7W33Cyi",
        "colab": {
          "base_uri": "https://localhost:8080/",
          "height": 55
        },
        "outputId": "6535ff02-f697-41c2-8648-6091c417b554"
      },
      "source": [
        "eq4=eq3-H**2\n",
        "eq4.simplify().subs(alias)"
      ],
      "execution_count": null,
      "outputs": [
        {
          "output_type": "execute_result",
          "data": {
            "image/png": "[encoded data removed]",
            "text/latex": "$\\displaystyle \\frac{- 8 \\pi G c^{4} \\rho_{X} w - c^{2} H^{2}{\\left(t \\right)} - r^{2} \\left(1.0 c^{2} k + 2.0 \\ddot{a}{\\left(t \\right)} a{\\left(t \\right)} + 1.0 \\dot{a}^{2}{\\left(t \\right)}\\right)}{c^{2}}$",
            "text/plain": [
              "         4          2  2       2 ⎛     2                                      \n",
              "- 8⋅π⋅G⋅c ⋅ρ_X⋅w - c ⋅H (t) - r ⋅⎝1.0⋅c ⋅k + 2.0⋅\\ddot{a}(t)⋅a(t) + 1.0⋅\\dot{a\n",
              "──────────────────────────────────────────────────────────────────────────────\n",
              "                                          2                                   \n",
              "                                         c                                    \n",
              "\n",
              " 2   ⎞\n",
              "} (t)⎠\n",
              "──────\n",
              "      \n",
              "      "
            ]
          },
          "metadata": {},
          "execution_count": 49
        }
      ]
    },
    {
      "cell_type": "code",
      "metadata": {
        "id": "w56D2cNG3Cyi"
      },
      "source": [
        ""
      ],
      "execution_count": null,
      "outputs": []
    },
    {
      "cell_type": "code",
      "metadata": {
        "id": "xRgXXvVh3Cyi"
      },
      "source": [
        ""
      ],
      "execution_count": null,
      "outputs": []
    },
    {
      "cell_type": "code",
      "metadata": {
        "id": "8BqOMD6C3Cyi"
      },
      "source": [
        ""
      ],
      "execution_count": null,
      "outputs": []
    },
    {
      "cell_type": "code",
      "metadata": {
        "id": "9qvG69rr3Cyj"
      },
      "source": [
        ""
      ],
      "execution_count": null,
      "outputs": []
    },
    {
      "cell_type": "code",
      "metadata": {
        "id": "fvq2PwcR3Cyj"
      },
      "source": [
        ""
      ],
      "execution_count": null,
      "outputs": []
    },
    {
      "cell_type": "code",
      "metadata": {
        "id": "Q0dhJn843Cyj"
      },
      "source": [
        ""
      ],
      "execution_count": null,
      "outputs": []
    },
    {
      "cell_type": "code",
      "metadata": {
        "id": "QjmmfmUs3Cyj"
      },
      "source": [
        ""
      ],
      "execution_count": null,
      "outputs": []
    },
    {
      "cell_type": "code",
      "metadata": {
        "id": "L-60dKUc3Cyj"
      },
      "source": [
        ""
      ],
      "execution_count": null,
      "outputs": []
    },
    {
      "cell_type": "code",
      "metadata": {
        "id": "XZXRWU4_3Cyj"
      },
      "source": [
        ""
      ],
      "execution_count": null,
      "outputs": []
    },
    {
      "cell_type": "code",
      "metadata": {
        "id": "ikOOglbI3Cyj"
      },
      "source": [
        ""
      ],
      "execution_count": null,
      "outputs": []
    },
    {
      "cell_type": "code",
      "metadata": {
        "id": "Mn6sIQLa3Cyj"
      },
      "source": [
        ""
      ],
      "execution_count": null,
      "outputs": []
    },
    {
      "cell_type": "code",
      "metadata": {
        "id": "npZnY1N93Cyk"
      },
      "source": [
        ""
      ],
      "execution_count": null,
      "outputs": []
    },
    {
      "cell_type": "code",
      "metadata": {
        "id": "g3YfWqP-3Cyk"
      },
      "source": [
        ""
      ],
      "execution_count": null,
      "outputs": []
    },
    {
      "cell_type": "code",
      "metadata": {
        "id": "JG9rj0Xq3Cyk"
      },
      "source": [
        ""
      ],
      "execution_count": null,
      "outputs": []
    }
  ]
}